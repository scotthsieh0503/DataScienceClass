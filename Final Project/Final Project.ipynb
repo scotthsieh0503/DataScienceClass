{
 "cells": [
  {
   "cell_type": "markdown",
   "metadata": {},
   "source": [
    "# Final Project - Student Performance analysis\n",
    "## Description\n",
    "For the final project I am doing an analysis on if there are correlation with Student final grades, percentage with attendance, instructor or particular course \n"
   ]
  },
  {
   "cell_type": "code",
   "execution_count": 86,
   "metadata": {},
   "outputs": [],
   "source": [
    "import pandas as pd\n",
    "import numpy as np\n",
    "import matplotlib.pyplot as plt\n",
    "import seaborn as sns\n",
    "from sklearn import model_selection, metrics, linear_model\n",
    "from sklearn.metrics import mean_squared_error, r2_score\n",
    "from statsmodels.formula.api import ols\n",
    "sns.set()"
   ]
  },
  {
   "cell_type": "markdown",
   "metadata": {},
   "source": [
    "## Loading data set "
   ]
  },
  {
   "cell_type": "markdown",
   "metadata": {},
   "source": [
    "Data sets are pulled from \n",
    "CANVAS LMS https://canvas.instructure.com/doc/api/quiz_submission_events.html via REST API's where students courses and attendance data are stored\n",
    "one45 Webeval https://api.one45.com/api/docs/all via ReST API's where students grade books are stored.\n",
    "\n",
    "Implement a data flow using https://airflow.apache.org/ where we are (Extract, Transform(Combine), Load) data from both system into a datawarehouse (On Amazon AWS)\n",
    "\n",
    "Then a sql query is run to formulate data set and export it to CSV. \n",
    "\n",
    "There are definitely some data quality issue with both systems where we extracted over 250,000 records from each of the system however, when combined only ~3000 rows of record has a good match betweeen the 2. It is mainly due to lack of common identifier between the 2 vendor and also naming inconsitnecy across names between the 2 system. "
   ]
  },
  {
   "cell_type": "code",
   "execution_count": 87,
   "metadata": {},
   "outputs": [
    {
     "data": {
      "text/html": [
       "<div>\n",
       "<style scoped>\n",
       "    .dataframe tbody tr th:only-of-type {\n",
       "        vertical-align: middle;\n",
       "    }\n",
       "\n",
       "    .dataframe tbody tr th {\n",
       "        vertical-align: top;\n",
       "    }\n",
       "\n",
       "    .dataframe thead th {\n",
       "        text-align: right;\n",
       "    }\n",
       "</style>\n",
       "<table border=\"1\" class=\"dataframe\">\n",
       "  <thead>\n",
       "    <tr style=\"text-align: right;\">\n",
       "      <th></th>\n",
       "      <th>full_name</th>\n",
       "      <th>learning_event_key</th>\n",
       "      <th>learning_event</th>\n",
       "      <th>instructor</th>\n",
       "      <th>instructor_id</th>\n",
       "      <th>attendance_percentage</th>\n",
       "      <th>final_letter_grade</th>\n",
       "      <th>final_percentage</th>\n",
       "    </tr>\n",
       "    <tr>\n",
       "      <th>learner_key</th>\n",
       "      <th></th>\n",
       "      <th></th>\n",
       "      <th></th>\n",
       "      <th></th>\n",
       "      <th></th>\n",
       "      <th></th>\n",
       "      <th></th>\n",
       "      <th></th>\n",
       "    </tr>\n",
       "  </thead>\n",
       "  <tbody>\n",
       "    <tr>\n",
       "      <th>2895</th>\n",
       "      <td>Flores, Madeline</td>\n",
       "      <td>42239</td>\n",
       "      <td>AY17-18 CIRC 6013-2020 FormandFunc Skin  Muscl...</td>\n",
       "      <td>Kristin Fiebelkorn</td>\n",
       "      <td>1047</td>\n",
       "      <td>1.00</td>\n",
       "      <td>A</td>\n",
       "      <td>88</td>\n",
       "    </tr>\n",
       "    <tr>\n",
       "      <th>3073</th>\n",
       "      <td>Hardy, Gwendolyn</td>\n",
       "      <td>40043</td>\n",
       "      <td>AY16-17 CIRC 5009-2020 Attack and Defense</td>\n",
       "      <td>Renee Brown</td>\n",
       "      <td>742</td>\n",
       "      <td>1.00</td>\n",
       "      <td>B</td>\n",
       "      <td>79</td>\n",
       "    </tr>\n",
       "    <tr>\n",
       "      <th>2392</th>\n",
       "      <td>Amuneke-Nze, Chidimma</td>\n",
       "      <td>40037</td>\n",
       "      <td>AY16-17 CIRC 5003-2020 Language of Medicine  (...</td>\n",
       "      <td>Linda Johnson</td>\n",
       "      <td>1354</td>\n",
       "      <td>1.00</td>\n",
       "      <td>A</td>\n",
       "      <td>88</td>\n",
       "    </tr>\n",
       "    <tr>\n",
       "      <th>2846</th>\n",
       "      <td>Emadi, Marissa</td>\n",
       "      <td>41897</td>\n",
       "      <td>AY17-18 PEDI 3005-008 Pediatrics Clerkship</td>\n",
       "      <td>Christine Gaspard</td>\n",
       "      <td>4802</td>\n",
       "      <td>1.00</td>\n",
       "      <td>B</td>\n",
       "      <td>74</td>\n",
       "    </tr>\n",
       "    <tr>\n",
       "      <th>3633</th>\n",
       "      <td>Mundy, Clare</td>\n",
       "      <td>41896</td>\n",
       "      <td>AY17-18 PEDI 3005-007 Pediatrics Clerkship</td>\n",
       "      <td>Christine Gaspard</td>\n",
       "      <td>4802</td>\n",
       "      <td>0.78</td>\n",
       "      <td>B</td>\n",
       "      <td>75</td>\n",
       "    </tr>\n",
       "  </tbody>\n",
       "</table>\n",
       "</div>"
      ],
      "text/plain": [
       "                         full_name  learning_event_key  \\\n",
       "learner_key                                              \n",
       "2895              Flores, Madeline               42239   \n",
       "3073              Hardy, Gwendolyn               40043   \n",
       "2392         Amuneke-Nze, Chidimma               40037   \n",
       "2846                Emadi, Marissa               41897   \n",
       "3633                  Mundy, Clare               41896   \n",
       "\n",
       "                                                learning_event  \\\n",
       "learner_key                                                      \n",
       "2895         AY17-18 CIRC 6013-2020 FormandFunc Skin  Muscl...   \n",
       "3073                 AY16-17 CIRC 5009-2020 Attack and Defense   \n",
       "2392         AY16-17 CIRC 5003-2020 Language of Medicine  (...   \n",
       "2846                AY17-18 PEDI 3005-008 Pediatrics Clerkship   \n",
       "3633                AY17-18 PEDI 3005-007 Pediatrics Clerkship   \n",
       "\n",
       "                     instructor  instructor_id  attendance_percentage  \\\n",
       "learner_key                                                             \n",
       "2895         Kristin Fiebelkorn           1047                   1.00   \n",
       "3073                Renee Brown            742                   1.00   \n",
       "2392              Linda Johnson           1354                   1.00   \n",
       "2846          Christine Gaspard           4802                   1.00   \n",
       "3633          Christine Gaspard           4802                   0.78   \n",
       "\n",
       "            final_letter_grade  final_percentage  \n",
       "learner_key                                       \n",
       "2895                         A                88  \n",
       "3073                         B                79  \n",
       "2392                         A                88  \n",
       "2846                         B                74  \n",
       "3633                         B                75  "
      ]
     },
     "execution_count": 87,
     "metadata": {},
     "output_type": "execute_result"
    }
   ],
   "source": [
    "\n",
    "learner_grades = pd.read_csv('learner_grades.csv',index_col=0)\n",
    "learner_grades.sample(5)"
   ]
  },
  {
   "cell_type": "markdown",
   "metadata": {},
   "source": [
    "## Analyzing Data Set"
   ]
  },
  {
   "cell_type": "markdown",
   "metadata": {},
   "source": [
    "### Letter grade count "
   ]
  },
  {
   "cell_type": "code",
   "execution_count": 88,
   "metadata": {},
   "outputs": [
    {
     "data": {
      "text/plain": [
       "<matplotlib.axes._subplots.AxesSubplot at 0x1a2084c2e8>"
      ]
     },
     "execution_count": 88,
     "metadata": {},
     "output_type": "execute_result"
    },
    {
     "data": {
      "image/png": "[encoded data removed]",
      "text/plain": [
       "<Figure size 432x288 with 1 Axes>"
      ]
     },
     "metadata": {},
     "output_type": "display_data"
    }
   ],
   "source": [
    "sns.countplot(x='final_letter_grade',data=learner_grades)"
   ]
  },
  {
   "cell_type": "markdown",
   "metadata": {},
   "source": [
    "Above plot shows that there are no weird labels in the final letter grades and the data sets for A and B's are far greater than C,F so when choosing training sets has to be careful.  There are also not very much incremental steps"
   ]
  },
  {
   "cell_type": "markdown",
   "metadata": {},
   "source": [
    "### Percentage Grade Distribution analysis"
   ]
  },
  {
   "cell_type": "code",
   "execution_count": 89,
   "metadata": {},
   "outputs": [
    {
     "name": "stderr",
     "output_type": "stream",
     "text": [
      "/Users/scotthsieh/anaconda3/lib/python3.6/site-packages/matplotlib/axes/_axes.py:6462: UserWarning: The 'normed' kwarg is deprecated, and has been replaced by the 'density' kwarg.\n",
      "  warnings.warn(\"The 'normed' kwarg is deprecated, and has been \"\n"
     ]
    },
    {
     "data": {
      "text/plain": [
       "<matplotlib.axes._subplots.AxesSubplot at 0x1a207ccef0>"
      ]
     },
     "execution_count": 89,
     "metadata": {},
     "output_type": "execute_result"
    },
    {
     "data": {
      "image/png": "[encoded data removed]",
      "text/plain": [
       "<Figure size 432x288 with 1 Axes>"
      ]
     },
     "metadata": {},
     "output_type": "display_data"
    }
   ],
   "source": [
    "sns.distplot(learner_grades['final_percentage'], kde=False, fit=stats.gamma)"
   ]
  },
  {
   "cell_type": "markdown",
   "metadata": {},
   "source": [
    "### Plotting Attendance vs Final Percentage "
   ]
  },
  {
   "cell_type": "code",
   "execution_count": 90,
   "metadata": {},
   "outputs": [
    {
     "data": {
      "text/plain": [
       "<seaborn.axisgrid.FacetGrid at 0x1a209cd1d0>"
      ]
     },
     "execution_count": 90,
     "metadata": {},
     "output_type": "execute_result"
    },
    {
     "data": {
      "image/png": "[encoded data removed]",
      "text/plain": [
       "<Figure size 360x360 with 1 Axes>"
      ]
     },
     "metadata": {},
     "output_type": "display_data"
    }
   ],
   "source": [
    "sns.lmplot(x='attendance_percentage', y='final_percentage', data=learner_grades, fit_reg=False)"
   ]
  },
  {
   "cell_type": "markdown",
   "metadata": {},
   "source": [
    "Noticed the data set where the student scored 10% on the attendance and still scores 90% in final grade "
   ]
  },
  {
   "cell_type": "markdown",
   "metadata": {},
   "source": [
    "# Linear Regression\n",
    "### predicing Attendance with Final Percentage "
   ]
  },
  {
   "cell_type": "code",
   "execution_count": 91,
   "metadata": {},
   "outputs": [
    {
     "data": {
      "text/html": [
       "<table class=\"simpletable\">\n",
       "<caption>OLS Regression Results</caption>\n",
       "<tr>\n",
       "  <th>Dep. Variable:</th>    <td>final_percentage</td> <th>  R-squared:         </th> <td>   0.000</td> \n",
       "</tr>\n",
       "<tr>\n",
       "  <th>Model:</th>                   <td>OLS</td>       <th>  Adj. R-squared:    </th> <td>  -0.000</td> \n",
       "</tr>\n",
       "<tr>\n",
       "  <th>Method:</th>             <td>Least Squares</td>  <th>  F-statistic:       </th> <td>  0.1400</td> \n",
       "</tr>\n",
       "<tr>\n",
       "  <th>Date:</th>             <td>Sun, 19 Aug 2018</td> <th>  Prob (F-statistic):</th>  <td> 0.708</td>  \n",
       "</tr>\n",
       "<tr>\n",
       "  <th>Time:</th>                 <td>15:40:45</td>     <th>  Log-Likelihood:    </th> <td> -7579.2</td> \n",
       "</tr>\n",
       "<tr>\n",
       "  <th>No. Observations:</th>      <td>  2086</td>      <th>  AIC:               </th> <td>1.516e+04</td>\n",
       "</tr>\n",
       "<tr>\n",
       "  <th>Df Residuals:</th>          <td>  2084</td>      <th>  BIC:               </th> <td>1.517e+04</td>\n",
       "</tr>\n",
       "<tr>\n",
       "  <th>Df Model:</th>              <td>     1</td>      <th>                     </th>     <td> </td>    \n",
       "</tr>\n",
       "<tr>\n",
       "  <th>Covariance Type:</th>      <td>nonrobust</td>    <th>                     </th>     <td> </td>    \n",
       "</tr>\n",
       "</table>\n",
       "<table class=\"simpletable\">\n",
       "<tr>\n",
       "            <td></td>               <th>coef</th>     <th>std err</th>      <th>t</th>      <th>P>|t|</th>  <th>[0.025</th>    <th>0.975]</th>  \n",
       "</tr>\n",
       "<tr>\n",
       "  <th>Intercept</th>             <td>   86.3347</td> <td>    2.364</td> <td>   36.520</td> <td> 0.000</td> <td>   81.699</td> <td>   90.971</td>\n",
       "</tr>\n",
       "<tr>\n",
       "  <th>attendance_percentage</th> <td>   -0.9100</td> <td>    2.432</td> <td>   -0.374</td> <td> 0.708</td> <td>   -5.680</td> <td>    3.860</td>\n",
       "</tr>\n",
       "</table>\n",
       "<table class=\"simpletable\">\n",
       "<tr>\n",
       "  <th>Omnibus:</th>       <td>591.511</td> <th>  Durbin-Watson:     </th> <td>   1.404</td>\n",
       "</tr>\n",
       "<tr>\n",
       "  <th>Prob(Omnibus):</th> <td> 0.000</td>  <th>  Jarque-Bera (JB):  </th> <td>1965.327</td>\n",
       "</tr>\n",
       "<tr>\n",
       "  <th>Skew:</th>          <td>-1.400</td>  <th>  Prob(JB):          </th> <td>    0.00</td>\n",
       "</tr>\n",
       "<tr>\n",
       "  <th>Kurtosis:</th>      <td> 6.843</td>  <th>  Cond. No.          </th> <td>    23.5</td>\n",
       "</tr>\n",
       "</table><br/><br/>Warnings:<br/>[1] Standard Errors assume that the covariance matrix of the errors is correctly specified."
      ],
      "text/plain": [
       "<class 'statsmodels.iolib.summary.Summary'>\n",
       "\"\"\"\n",
       "                            OLS Regression Results                            \n",
       "==============================================================================\n",
       "Dep. Variable:       final_percentage   R-squared:                       0.000\n",
       "Model:                            OLS   Adj. R-squared:                 -0.000\n",
       "Method:                 Least Squares   F-statistic:                    0.1400\n",
       "Date:                Sun, 19 Aug 2018   Prob (F-statistic):              0.708\n",
       "Time:                        15:40:45   Log-Likelihood:                -7579.2\n",
       "No. Observations:                2086   AIC:                         1.516e+04\n",
       "Df Residuals:                    2084   BIC:                         1.517e+04\n",
       "Df Model:                           1                                         \n",
       "Covariance Type:            nonrobust                                         \n",
       "=========================================================================================\n",
       "                            coef    std err          t      P>|t|      [0.025      0.975]\n",
       "-----------------------------------------------------------------------------------------\n",
       "Intercept                86.3347      2.364     36.520      0.000      81.699      90.971\n",
       "attendance_percentage    -0.9100      2.432     -0.374      0.708      -5.680       3.860\n",
       "==============================================================================\n",
       "Omnibus:                      591.511   Durbin-Watson:                   1.404\n",
       "Prob(Omnibus):                  0.000   Jarque-Bera (JB):             1965.327\n",
       "Skew:                          -1.400   Prob(JB):                         0.00\n",
       "Kurtosis:                       6.843   Cond. No.                         23.5\n",
       "==============================================================================\n",
       "\n",
       "Warnings:\n",
       "[1] Standard Errors assume that the covariance matrix of the errors is correctly specified.\n",
       "\"\"\""
      ]
     },
     "execution_count": 91,
     "metadata": {},
     "output_type": "execute_result"
    }
   ],
   "source": [
    "r1 = ols(\"final_percentage ~ attendance_percentage\", data = learner_grades).fit()\n",
    "r1.summary()"
   ]
  },
  {
   "cell_type": "code",
   "execution_count": 82,
   "metadata": {},
   "outputs": [],
   "source": [
    "train, test = model_selection.train_test_split(learner_grades)"
   ]
  },
  {
   "cell_type": "code",
   "execution_count": 74,
   "metadata": {},
   "outputs": [
    {
     "data": {
      "text/html": [
       "<div>\n",
       "<style scoped>\n",
       "    .dataframe tbody tr th:only-of-type {\n",
       "        vertical-align: middle;\n",
       "    }\n",
       "\n",
       "    .dataframe tbody tr th {\n",
       "        vertical-align: top;\n",
       "    }\n",
       "\n",
       "    .dataframe thead th {\n",
       "        text-align: right;\n",
       "    }\n",
       "</style>\n",
       "<table border=\"1\" class=\"dataframe\">\n",
       "  <thead>\n",
       "    <tr style=\"text-align: right;\">\n",
       "      <th></th>\n",
       "      <th>full_name</th>\n",
       "      <th>learning_event_key</th>\n",
       "      <th>learning_event</th>\n",
       "      <th>attendance_percentage</th>\n",
       "      <th>final_letter_grade</th>\n",
       "      <th>final_percentage</th>\n",
       "    </tr>\n",
       "    <tr>\n",
       "      <th>learner_key</th>\n",
       "      <th></th>\n",
       "      <th></th>\n",
       "      <th></th>\n",
       "      <th></th>\n",
       "      <th></th>\n",
       "      <th></th>\n",
       "    </tr>\n",
       "  </thead>\n",
       "  <tbody>\n",
       "    <tr>\n",
       "      <th>2730</th>\n",
       "      <td>Cruz, Amanda</td>\n",
       "      <td>42239</td>\n",
       "      <td>AY17-18 CIRC 6013-2020 FormandFunc Skin  Muscl...</td>\n",
       "      <td>1.0</td>\n",
       "      <td>B</td>\n",
       "      <td>79</td>\n",
       "    </tr>\n",
       "    <tr>\n",
       "      <th>3582</th>\n",
       "      <td>Mitra, Natasha</td>\n",
       "      <td>38169</td>\n",
       "      <td>AY15-17 CIRC 5001-2019 Medicine  Behavior and ...</td>\n",
       "      <td>1.0</td>\n",
       "      <td>A</td>\n",
       "      <td>87</td>\n",
       "    </tr>\n",
       "    <tr>\n",
       "      <th>3284</th>\n",
       "      <td>Kennedy, Mark</td>\n",
       "      <td>38169</td>\n",
       "      <td>AY15-17 CIRC 5001-2019 Medicine  Behavior and ...</td>\n",
       "      <td>1.0</td>\n",
       "      <td>A</td>\n",
       "      <td>97</td>\n",
       "    </tr>\n",
       "    <tr>\n",
       "      <th>3553</th>\n",
       "      <td>Membreno, Raul</td>\n",
       "      <td>42236</td>\n",
       "      <td>AY17-18 CIRC 6007-2020 Mind  Brain and Behavior</td>\n",
       "      <td>1.0</td>\n",
       "      <td>A</td>\n",
       "      <td>97</td>\n",
       "    </tr>\n",
       "    <tr>\n",
       "      <th>2692</th>\n",
       "      <td>Cochran, Matthew</td>\n",
       "      <td>42239</td>\n",
       "      <td>AY17-18 CIRC 6013-2020 FormandFunc Skin  Muscl...</td>\n",
       "      <td>1.0</td>\n",
       "      <td>A</td>\n",
       "      <td>88</td>\n",
       "    </tr>\n",
       "  </tbody>\n",
       "</table>\n",
       "</div>"
      ],
      "text/plain": [
       "                    full_name  learning_event_key  \\\n",
       "learner_key                                         \n",
       "2730             Cruz, Amanda               42239   \n",
       "3582           Mitra, Natasha               38169   \n",
       "3284            Kennedy, Mark               38169   \n",
       "3553           Membreno, Raul               42236   \n",
       "2692         Cochran, Matthew               42239   \n",
       "\n",
       "                                                learning_event  \\\n",
       "learner_key                                                      \n",
       "2730         AY17-18 CIRC 6013-2020 FormandFunc Skin  Muscl...   \n",
       "3582         AY15-17 CIRC 5001-2019 Medicine  Behavior and ...   \n",
       "3284         AY15-17 CIRC 5001-2019 Medicine  Behavior and ...   \n",
       "3553           AY17-18 CIRC 6007-2020 Mind  Brain and Behavior   \n",
       "2692         AY17-18 CIRC 6013-2020 FormandFunc Skin  Muscl...   \n",
       "\n",
       "             attendance_percentage final_letter_grade  final_percentage  \n",
       "learner_key                                                              \n",
       "2730                           1.0                  B                79  \n",
       "3582                           1.0                  A                87  \n",
       "3284                           1.0                  A                97  \n",
       "3553                           1.0                  A                97  \n",
       "2692                           1.0                  A                88  "
      ]
     },
     "execution_count": 74,
     "metadata": {},
     "output_type": "execute_result"
    }
   ],
   "source": [
    "train.head()"
   ]
  },
  {
   "cell_type": "code",
   "execution_count": 75,
   "metadata": {},
   "outputs": [
    {
     "data": {
      "text/html": [
       "<div>\n",
       "<style scoped>\n",
       "    .dataframe tbody tr th:only-of-type {\n",
       "        vertical-align: middle;\n",
       "    }\n",
       "\n",
       "    .dataframe tbody tr th {\n",
       "        vertical-align: top;\n",
       "    }\n",
       "\n",
       "    .dataframe thead th {\n",
       "        text-align: right;\n",
       "    }\n",
       "</style>\n",
       "<table border=\"1\" class=\"dataframe\">\n",
       "  <thead>\n",
       "    <tr style=\"text-align: right;\">\n",
       "      <th></th>\n",
       "      <th>full_name</th>\n",
       "      <th>learning_event_key</th>\n",
       "      <th>learning_event</th>\n",
       "      <th>attendance_percentage</th>\n",
       "      <th>final_letter_grade</th>\n",
       "      <th>final_percentage</th>\n",
       "    </tr>\n",
       "    <tr>\n",
       "      <th>learner_key</th>\n",
       "      <th></th>\n",
       "      <th></th>\n",
       "      <th></th>\n",
       "      <th></th>\n",
       "      <th></th>\n",
       "      <th></th>\n",
       "    </tr>\n",
       "  </thead>\n",
       "  <tbody>\n",
       "    <tr>\n",
       "      <th>4333</th>\n",
       "      <td>Wilson, John</td>\n",
       "      <td>38178</td>\n",
       "      <td>AY15-16 CIRC 5015-1ST Renal and Male Reproductive</td>\n",
       "      <td>1.0</td>\n",
       "      <td>B</td>\n",
       "      <td>82</td>\n",
       "    </tr>\n",
       "    <tr>\n",
       "      <th>3553</th>\n",
       "      <td>Membreno, Raul</td>\n",
       "      <td>40039</td>\n",
       "      <td>AY16-18 CIRC 5005-2020 Clinical Skills</td>\n",
       "      <td>1.0</td>\n",
       "      <td>A</td>\n",
       "      <td>92</td>\n",
       "    </tr>\n",
       "    <tr>\n",
       "      <th>3146</th>\n",
       "      <td>Hopkins, Hilary</td>\n",
       "      <td>38179</td>\n",
       "      <td>AY15-16 CIRC 5017-001 Hematology</td>\n",
       "      <td>1.0</td>\n",
       "      <td>B</td>\n",
       "      <td>78</td>\n",
       "    </tr>\n",
       "    <tr>\n",
       "      <th>3935</th>\n",
       "      <td>Romere, Chase</td>\n",
       "      <td>41890</td>\n",
       "      <td>AY17-18 PEDI 3005-001 Pediatrics Clerkship</td>\n",
       "      <td>1.0</td>\n",
       "      <td>A</td>\n",
       "      <td>96</td>\n",
       "    </tr>\n",
       "    <tr>\n",
       "      <th>2692</th>\n",
       "      <td>Cochran, Matthew</td>\n",
       "      <td>40041</td>\n",
       "      <td>AY16-17 CIRC 5007-2020 Molecules to Medicine</td>\n",
       "      <td>1.0</td>\n",
       "      <td>A</td>\n",
       "      <td>91</td>\n",
       "    </tr>\n",
       "  </tbody>\n",
       "</table>\n",
       "</div>"
      ],
      "text/plain": [
       "                    full_name  learning_event_key  \\\n",
       "learner_key                                         \n",
       "4333             Wilson, John               38178   \n",
       "3553           Membreno, Raul               40039   \n",
       "3146          Hopkins, Hilary               38179   \n",
       "3935            Romere, Chase               41890   \n",
       "2692         Cochran, Matthew               40041   \n",
       "\n",
       "                                                learning_event  \\\n",
       "learner_key                                                      \n",
       "4333         AY15-16 CIRC 5015-1ST Renal and Male Reproductive   \n",
       "3553                    AY16-18 CIRC 5005-2020 Clinical Skills   \n",
       "3146                          AY15-16 CIRC 5017-001 Hematology   \n",
       "3935                AY17-18 PEDI 3005-001 Pediatrics Clerkship   \n",
       "2692              AY16-17 CIRC 5007-2020 Molecules to Medicine   \n",
       "\n",
       "             attendance_percentage final_letter_grade  final_percentage  \n",
       "learner_key                                                              \n",
       "4333                           1.0                  B                82  \n",
       "3553                           1.0                  A                92  \n",
       "3146                           1.0                  B                78  \n",
       "3935                           1.0                  A                96  \n",
       "2692                           1.0                  A                91  "
      ]
     },
     "execution_count": 75,
     "metadata": {},
     "output_type": "execute_result"
    }
   ],
   "source": [
    "test.head()"
   ]
  },
  {
   "cell_type": "code",
   "execution_count": null,
   "metadata": {},
   "outputs": [],
   "source": []
  },
  {
   "cell_type": "code",
   "execution_count": null,
   "metadata": {},
   "outputs": [],
   "source": []
  }
 ],
 "metadata": {
  "kernelspec": {
   "display_name": "Python 3",
   "language": "python",
   "name": "python3"
  },
  "language_info": {
   "codemirror_mode": {
    "name": "ipython",
    "version": 3
   },
   "file_extension": ".py",
   "mimetype": "text/x-python",
   "name": "python",
   "nbconvert_exporter": "python",
   "pygments_lexer": "ipython3",
   "version": "3.6.5"
  }
 },
 "nbformat": 4,
 "nbformat_minor": 2
}
