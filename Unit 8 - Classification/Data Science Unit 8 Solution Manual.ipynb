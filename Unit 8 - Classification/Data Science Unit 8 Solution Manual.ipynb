{
 "cells": [
  {
   "cell_type": "code",
   "execution_count": 2,
   "metadata": {
    "colab": {},
    "colab_type": "code",
    "id": "ZjrCTHD_DL2o",
    "outputId": "16f01ce2-0adc-4b59-bd3f-e77b0fdfbbcc"
   },
   "outputs": [
    {
     "name": "stdout",
     "output_type": "stream",
     "text": [
      "Populating the interactive namespace from numpy and matplotlib\n"
     ]
    }
   ],
   "source": [
    "import pandas as pd\n",
    "import numpy as np\n",
    "import matplotlib.pyplot as plt\n",
    "%pylab inline\n",
    "pylab.rcParams['figure.figsize'] = (10.0, 8.0)"
   ]
  },
  {
   "cell_type": "markdown",
   "metadata": {
    "colab_type": "text",
    "id": "ljHDsFMoDL2u"
   },
   "source": [
    "# Assignment 8\n",
    "\n",
    "1. Take the data we had for the tea cooling, and fit a linear regression model to it.  Use the `cooling1(t)` function to expand the data set to include the value for `t=6`.  Make a linear regression model for this new data set.  By adding a single data point, by how much did the slope of the regression model increase or decrease (as a percentage of the original slope)?\n",
    "2. Using the marketing data `MLR.csv` from the multiple linear regression section, create individual single linear regression models for budget vs sales, and visits vs sales.  By what percentage were each of these models off from the value we got for `marketing_model(1.6,2.1)`?\n",
    "3. Consider the data set from the overfitting section: <br>\n",
    "`x1 = np.array([0.1,2.1,2.5,3.3,6.1,7.2,8.3,8.7,9.0])\n",
    "y1 = np.array([3.1,1.5,3.5,2.0,6.0,8.5,7.1,9.5,6.7])`<br>\n",
    " Create a cubic (degree 3 polynomial) regression model for it.  Suppose that it turned out there was an 11th data point we\n",
    " didn't know about before: `(x,y)=(10,8.9)`.  Which of the models (linear, cubic, and degree 5 polynomial) most accurately predicted this data point? (i.e.: for which model was the distance minimized between the model's prediction for `x=10` and the actual data point?)\n",
    "4. Use the `customer_info.csv` for these questions.  Instead of using sklearn's multiple linear regression, instead use statsmodel's OLS regression from `statsmodels.formula.api`.  Documentation can be found here:<br>\n",
    "http://www.statsmodels.org/dev/example_formulas.html<br>\n",
    "\n",
    "  1.  The big Telecom that you work for is interested in the relationship between the number of employees who work at a company, and how much they spend on different products. Perform two linear regressions, each with EMP as the independent variable, but with MOBILITY as the dependent variable in one and INTERNET as the dependent variable in the other. Describe in words the relationship between each of these revenue categories and the number of employees at a company. Do these results make sense to you? Why or why not?\n",
    "  2.   We are now interested in how the relationship between Mobility revenue and employees changes across different industries. Pick two industries to investigate, and create two data frames, each with data on one of your chosen industries. Run a regression on each data frame to see how the relationship between the number of employees changes between industries. Describe your findings in words. (Note: it would be good if we could organize ourselves so that at least one person is doing each possible pair of industries.)\n",
    "  3. Repeat the same exercise with Internet revenue instead of Mobility.\n",
    "  4. (Optional) To see how effects differ across categorical variables using a regression, it is useful to use an interaction term. Use an interaction term to investigate the effect of employees on mobility across all industries.\n",
    "  5.  Use your findings to make a recommendation to the marketing team about how they could use information about how many employees work at companies to create campaigns with the highest return.\n",
    "\n",
    "5. (Bonus) Using the cooling model we made for the cup of tea, find the precise time (minutes, to within 2 decimal places) that the tea reaches room temperature. "
   ]
  },
  {
   "cell_type": "markdown",
   "metadata": {
    "colab_type": "text",
    "id": "cPojWS0eDL2v"
   },
   "source": [
    "# 1."
   ]
  },
  {
   "cell_type": "code",
   "execution_count": 3,
   "metadata": {
    "colab": {},
    "colab_type": "code",
    "id": "o6aSYNiLDL2v",
    "outputId": "69490b14-fac2-45ce-902e-e0654ec31941"
   },
   "outputs": [
    {
     "data": {
      "text/html": [
       "<div>\n",
       "<style scoped>\n",
       "    .dataframe tbody tr th:only-of-type {\n",
       "        vertical-align: middle;\n",
       "    }\n",
       "\n",
       "    .dataframe tbody tr th {\n",
       "        vertical-align: top;\n",
       "    }\n",
       "\n",
       "    .dataframe thead th {\n",
       "        text-align: right;\n",
       "    }\n",
       "</style>\n",
       "<table border=\"1\" class=\"dataframe\">\n",
       "  <thead>\n",
       "    <tr style=\"text-align: right;\">\n",
       "      <th></th>\n",
       "      <th>Temp</th>\n",
       "    </tr>\n",
       "  </thead>\n",
       "  <tbody>\n",
       "    <tr>\n",
       "      <th>0.00</th>\n",
       "      <td>85.0</td>\n",
       "    </tr>\n",
       "    <tr>\n",
       "      <th>0.50</th>\n",
       "      <td>80.3</td>\n",
       "    </tr>\n",
       "    <tr>\n",
       "      <th>1.00</th>\n",
       "      <td>75.4</td>\n",
       "    </tr>\n",
       "    <tr>\n",
       "      <th>2.00</th>\n",
       "      <td>68.0</td>\n",
       "    </tr>\n",
       "    <tr>\n",
       "      <th>2.50</th>\n",
       "      <td>64.6</td>\n",
       "    </tr>\n",
       "    <tr>\n",
       "      <th>3.75</th>\n",
       "      <td>56.1</td>\n",
       "    </tr>\n",
       "    <tr>\n",
       "      <th>4.00</th>\n",
       "      <td>55.6</td>\n",
       "    </tr>\n",
       "    <tr>\n",
       "      <th>5.00</th>\n",
       "      <td>51.0</td>\n",
       "    </tr>\n",
       "  </tbody>\n",
       "</table>\n",
       "</div>"
      ],
      "text/plain": [
       "      Temp\n",
       "0.00  85.0\n",
       "0.50  80.3\n",
       "1.00  75.4\n",
       "2.00  68.0\n",
       "2.50  64.6\n",
       "3.75  56.1\n",
       "4.00  55.6\n",
       "5.00  51.0"
      ]
     },
     "execution_count": 3,
     "metadata": {},
     "output_type": "execute_result"
    }
   ],
   "source": [
    "from scipy import stats\n",
    "\n",
    "t1 = pd.DataFrame({'Temp':[85.0, 80.3, 75.4, 68.0, 64.6, 56.1, 55.6, 51.0]}, index=[0,0.5,1,2,2.5,3.75,4,5])\n",
    "t1"
   ]
  },
  {
   "cell_type": "code",
   "execution_count": 4,
   "metadata": {
    "colab": {},
    "colab_type": "code",
    "id": "6vxTz62sDL2y"
   },
   "outputs": [],
   "source": [
    "def cooling1(t):\n",
    "    return 18+67*((50/67)**(t/2))\n",
    "\n",
    "t2 = pd.DataFrame({'Temp':[85.0, 80.3, 75.4, 68.0, 64.6, 56.1, 55.6, 51.0, cooling1(6)]}, index=[0,0.5,1,2,2.5,3.75,4,5,6])"
   ]
  },
  {
   "cell_type": "code",
   "execution_count": 5,
   "metadata": {
    "colab": {},
    "colab_type": "code",
    "id": "cmYNWLXsDL20",
    "outputId": "d1b1b571-83cb-46e1-f14c-4fc237d1fc6f"
   },
   "outputs": [
    {
     "data": {
      "text/html": [
       "<div>\n",
       "<style scoped>\n",
       "    .dataframe tbody tr th:only-of-type {\n",
       "        vertical-align: middle;\n",
       "    }\n",
       "\n",
       "    .dataframe tbody tr th {\n",
       "        vertical-align: top;\n",
       "    }\n",
       "\n",
       "    .dataframe thead th {\n",
       "        text-align: right;\n",
       "    }\n",
       "</style>\n",
       "<table border=\"1\" class=\"dataframe\">\n",
       "  <thead>\n",
       "    <tr style=\"text-align: right;\">\n",
       "      <th></th>\n",
       "      <th>Temp</th>\n",
       "    </tr>\n",
       "  </thead>\n",
       "  <tbody>\n",
       "    <tr>\n",
       "      <th>0.00</th>\n",
       "      <td>85.000000</td>\n",
       "    </tr>\n",
       "    <tr>\n",
       "      <th>0.50</th>\n",
       "      <td>80.300000</td>\n",
       "    </tr>\n",
       "    <tr>\n",
       "      <th>1.00</th>\n",
       "      <td>75.400000</td>\n",
       "    </tr>\n",
       "    <tr>\n",
       "      <th>2.00</th>\n",
       "      <td>68.000000</td>\n",
       "    </tr>\n",
       "    <tr>\n",
       "      <th>2.50</th>\n",
       "      <td>64.600000</td>\n",
       "    </tr>\n",
       "    <tr>\n",
       "      <th>3.75</th>\n",
       "      <td>56.100000</td>\n",
       "    </tr>\n",
       "    <tr>\n",
       "      <th>4.00</th>\n",
       "      <td>55.600000</td>\n",
       "    </tr>\n",
       "    <tr>\n",
       "      <th>5.00</th>\n",
       "      <td>51.000000</td>\n",
       "    </tr>\n",
       "    <tr>\n",
       "      <th>6.00</th>\n",
       "      <td>45.845845</td>\n",
       "    </tr>\n",
       "  </tbody>\n",
       "</table>\n",
       "</div>"
      ],
      "text/plain": [
       "           Temp\n",
       "0.00  85.000000\n",
       "0.50  80.300000\n",
       "1.00  75.400000\n",
       "2.00  68.000000\n",
       "2.50  64.600000\n",
       "3.75  56.100000\n",
       "4.00  55.600000\n",
       "5.00  51.000000\n",
       "6.00  45.845845"
      ]
     },
     "execution_count": 5,
     "metadata": {},
     "output_type": "execute_result"
    }
   ],
   "source": [
    "t2"
   ]
  },
  {
   "cell_type": "code",
   "execution_count": 6,
   "metadata": {
    "colab": {},
    "colab_type": "code",
    "id": "AMqSzdC2DL22",
    "outputId": "fdae7ed0-b51d-4bd2-8019-942f414bae4f"
   },
   "outputs": [
    {
     "data": {
      "text/plain": [
       "-6.871986183074267"
      ]
     },
     "execution_count": 6,
     "metadata": {},
     "output_type": "execute_result"
    }
   ],
   "source": [
    "original_slope, intercept, r_value, p_value, slope_std_error = stats.linregress(t1.index, t1['Temp'])\n",
    "\n",
    "original_slope"
   ]
  },
  {
   "cell_type": "code",
   "execution_count": 7,
   "metadata": {
    "colab": {},
    "colab_type": "code",
    "id": "UBEjz9rJDL25",
    "outputId": "d45f23cd-6b06-4149-fa48-00f366420839"
   },
   "outputs": [
    {
     "data": {
      "text/plain": [
       "-6.4978551434908525"
      ]
     },
     "execution_count": 7,
     "metadata": {},
     "output_type": "execute_result"
    }
   ],
   "source": [
    "new_slope, intercept, r_value, p_value, slope_std_error = stats.linregress(t2.index, t2['Temp'])\n",
    "\n",
    "new_slope"
   ]
  },
  {
   "cell_type": "code",
   "execution_count": 8,
   "metadata": {
    "colab": {},
    "colab_type": "code",
    "id": "IbJahYnoDL27",
    "outputId": "249e6901-6a0b-428d-ad15-6e68f224b373"
   },
   "outputs": [
    {
     "data": {
      "text/plain": [
       "-5.444292663231782"
      ]
     },
     "execution_count": 8,
     "metadata": {},
     "output_type": "execute_result"
    }
   ],
   "source": [
    "((new_slope - original_slope)/original_slope)*100"
   ]
  },
  {
   "cell_type": "markdown",
   "metadata": {
    "colab_type": "text",
    "id": "0xfh7vfZDL2_"
   },
   "source": [
    "So there was an $\\sim 5.4$ percent shift with the added data point."
   ]
  },
  {
   "cell_type": "markdown",
   "metadata": {
    "colab_type": "text",
    "id": "AtV8y_I6DL2_"
   },
   "source": [
    "# 2."
   ]
  },
  {
   "cell_type": "code",
   "execution_count": 9,
   "metadata": {
    "colab": {},
    "colab_type": "code",
    "id": "2FUiZZO9DL2_",
    "outputId": "4a4a201c-f648-4b67-dcb8-810f449e3f1f"
   },
   "outputs": [
    {
     "ename": "FileNotFoundError",
     "evalue": "File b'MLR.csv' does not exist",
     "output_type": "error",
     "traceback": [
      "\u001b[0;31m---------------------------------------------------------------------------\u001b[0m",
      "\u001b[0;31mFileNotFoundError\u001b[0m                         Traceback (most recent call last)",
      "\u001b[0;32m<ipython-input-9-fcd3f92b10cf>\u001b[0m in \u001b[0;36m<module>\u001b[0;34m()\u001b[0m\n\u001b[0;32m----> 1\u001b[0;31m \u001b[0mmlr\u001b[0m \u001b[0;34m=\u001b[0m \u001b[0mpd\u001b[0m\u001b[0;34m.\u001b[0m\u001b[0mread_csv\u001b[0m\u001b[0;34m(\u001b[0m\u001b[0;34m'MLR.csv'\u001b[0m\u001b[0;34m)\u001b[0m\u001b[0;34m\u001b[0m\u001b[0m\n\u001b[0m\u001b[1;32m      2\u001b[0m \u001b[0mmlr\u001b[0m\u001b[0;34m.\u001b[0m\u001b[0mhead\u001b[0m\u001b[0;34m(\u001b[0m\u001b[0;36m10\u001b[0m\u001b[0;34m)\u001b[0m\u001b[0;34m\u001b[0m\u001b[0m\n",
      "\u001b[0;32m~/anaconda3/lib/python3.6/site-packages/pandas/io/parsers.py\u001b[0m in \u001b[0;36mparser_f\u001b[0;34m(filepath_or_buffer, sep, delimiter, header, names, index_col, usecols, squeeze, prefix, mangle_dupe_cols, dtype, engine, converters, true_values, false_values, skipinitialspace, skiprows, nrows, na_values, keep_default_na, na_filter, verbose, skip_blank_lines, parse_dates, infer_datetime_format, keep_date_col, date_parser, dayfirst, iterator, chunksize, compression, thousands, decimal, lineterminator, quotechar, quoting, escapechar, comment, encoding, dialect, tupleize_cols, error_bad_lines, warn_bad_lines, skipfooter, doublequote, delim_whitespace, low_memory, memory_map, float_precision)\u001b[0m\n\u001b[1;32m    676\u001b[0m                     skip_blank_lines=skip_blank_lines)\n\u001b[1;32m    677\u001b[0m \u001b[0;34m\u001b[0m\u001b[0m\n\u001b[0;32m--> 678\u001b[0;31m         \u001b[0;32mreturn\u001b[0m \u001b[0m_read\u001b[0m\u001b[0;34m(\u001b[0m\u001b[0mfilepath_or_buffer\u001b[0m\u001b[0;34m,\u001b[0m \u001b[0mkwds\u001b[0m\u001b[0;34m)\u001b[0m\u001b[0;34m\u001b[0m\u001b[0m\n\u001b[0m\u001b[1;32m    679\u001b[0m \u001b[0;34m\u001b[0m\u001b[0m\n\u001b[1;32m    680\u001b[0m     \u001b[0mparser_f\u001b[0m\u001b[0;34m.\u001b[0m\u001b[0m__name__\u001b[0m \u001b[0;34m=\u001b[0m \u001b[0mname\u001b[0m\u001b[0;34m\u001b[0m\u001b[0m\n",
      "\u001b[0;32m~/anaconda3/lib/python3.6/site-packages/pandas/io/parsers.py\u001b[0m in \u001b[0;36m_read\u001b[0;34m(filepath_or_buffer, kwds)\u001b[0m\n\u001b[1;32m    438\u001b[0m \u001b[0;34m\u001b[0m\u001b[0m\n\u001b[1;32m    439\u001b[0m     \u001b[0;31m# Create the parser.\u001b[0m\u001b[0;34m\u001b[0m\u001b[0;34m\u001b[0m\u001b[0m\n\u001b[0;32m--> 440\u001b[0;31m     \u001b[0mparser\u001b[0m \u001b[0;34m=\u001b[0m \u001b[0mTextFileReader\u001b[0m\u001b[0;34m(\u001b[0m\u001b[0mfilepath_or_buffer\u001b[0m\u001b[0;34m,\u001b[0m \u001b[0;34m**\u001b[0m\u001b[0mkwds\u001b[0m\u001b[0;34m)\u001b[0m\u001b[0;34m\u001b[0m\u001b[0m\n\u001b[0m\u001b[1;32m    441\u001b[0m \u001b[0;34m\u001b[0m\u001b[0m\n\u001b[1;32m    442\u001b[0m     \u001b[0;32mif\u001b[0m \u001b[0mchunksize\u001b[0m \u001b[0;32mor\u001b[0m \u001b[0miterator\u001b[0m\u001b[0;34m:\u001b[0m\u001b[0;34m\u001b[0m\u001b[0m\n",
      "\u001b[0;32m~/anaconda3/lib/python3.6/site-packages/pandas/io/parsers.py\u001b[0m in \u001b[0;36m__init__\u001b[0;34m(self, f, engine, **kwds)\u001b[0m\n\u001b[1;32m    785\u001b[0m             \u001b[0mself\u001b[0m\u001b[0;34m.\u001b[0m\u001b[0moptions\u001b[0m\u001b[0;34m[\u001b[0m\u001b[0;34m'has_index_names'\u001b[0m\u001b[0;34m]\u001b[0m \u001b[0;34m=\u001b[0m \u001b[0mkwds\u001b[0m\u001b[0;34m[\u001b[0m\u001b[0;34m'has_index_names'\u001b[0m\u001b[0;34m]\u001b[0m\u001b[0;34m\u001b[0m\u001b[0m\n\u001b[1;32m    786\u001b[0m \u001b[0;34m\u001b[0m\u001b[0m\n\u001b[0;32m--> 787\u001b[0;31m         \u001b[0mself\u001b[0m\u001b[0;34m.\u001b[0m\u001b[0m_make_engine\u001b[0m\u001b[0;34m(\u001b[0m\u001b[0mself\u001b[0m\u001b[0;34m.\u001b[0m\u001b[0mengine\u001b[0m\u001b[0;34m)\u001b[0m\u001b[0;34m\u001b[0m\u001b[0m\n\u001b[0m\u001b[1;32m    788\u001b[0m \u001b[0;34m\u001b[0m\u001b[0m\n\u001b[1;32m    789\u001b[0m     \u001b[0;32mdef\u001b[0m \u001b[0mclose\u001b[0m\u001b[0;34m(\u001b[0m\u001b[0mself\u001b[0m\u001b[0;34m)\u001b[0m\u001b[0;34m:\u001b[0m\u001b[0;34m\u001b[0m\u001b[0m\n",
      "\u001b[0;32m~/anaconda3/lib/python3.6/site-packages/pandas/io/parsers.py\u001b[0m in \u001b[0;36m_make_engine\u001b[0;34m(self, engine)\u001b[0m\n\u001b[1;32m   1012\u001b[0m     \u001b[0;32mdef\u001b[0m \u001b[0m_make_engine\u001b[0m\u001b[0;34m(\u001b[0m\u001b[0mself\u001b[0m\u001b[0;34m,\u001b[0m \u001b[0mengine\u001b[0m\u001b[0;34m=\u001b[0m\u001b[0;34m'c'\u001b[0m\u001b[0;34m)\u001b[0m\u001b[0;34m:\u001b[0m\u001b[0;34m\u001b[0m\u001b[0m\n\u001b[1;32m   1013\u001b[0m         \u001b[0;32mif\u001b[0m \u001b[0mengine\u001b[0m \u001b[0;34m==\u001b[0m \u001b[0;34m'c'\u001b[0m\u001b[0;34m:\u001b[0m\u001b[0;34m\u001b[0m\u001b[0m\n\u001b[0;32m-> 1014\u001b[0;31m             \u001b[0mself\u001b[0m\u001b[0;34m.\u001b[0m\u001b[0m_engine\u001b[0m \u001b[0;34m=\u001b[0m \u001b[0mCParserWrapper\u001b[0m\u001b[0;34m(\u001b[0m\u001b[0mself\u001b[0m\u001b[0;34m.\u001b[0m\u001b[0mf\u001b[0m\u001b[0;34m,\u001b[0m \u001b[0;34m**\u001b[0m\u001b[0mself\u001b[0m\u001b[0;34m.\u001b[0m\u001b[0moptions\u001b[0m\u001b[0;34m)\u001b[0m\u001b[0;34m\u001b[0m\u001b[0m\n\u001b[0m\u001b[1;32m   1015\u001b[0m         \u001b[0;32melse\u001b[0m\u001b[0;34m:\u001b[0m\u001b[0;34m\u001b[0m\u001b[0m\n\u001b[1;32m   1016\u001b[0m             \u001b[0;32mif\u001b[0m \u001b[0mengine\u001b[0m \u001b[0;34m==\u001b[0m \u001b[0;34m'python'\u001b[0m\u001b[0;34m:\u001b[0m\u001b[0;34m\u001b[0m\u001b[0m\n",
      "\u001b[0;32m~/anaconda3/lib/python3.6/site-packages/pandas/io/parsers.py\u001b[0m in \u001b[0;36m__init__\u001b[0;34m(self, src, **kwds)\u001b[0m\n\u001b[1;32m   1706\u001b[0m         \u001b[0mkwds\u001b[0m\u001b[0;34m[\u001b[0m\u001b[0;34m'usecols'\u001b[0m\u001b[0;34m]\u001b[0m \u001b[0;34m=\u001b[0m \u001b[0mself\u001b[0m\u001b[0;34m.\u001b[0m\u001b[0musecols\u001b[0m\u001b[0;34m\u001b[0m\u001b[0m\n\u001b[1;32m   1707\u001b[0m \u001b[0;34m\u001b[0m\u001b[0m\n\u001b[0;32m-> 1708\u001b[0;31m         \u001b[0mself\u001b[0m\u001b[0;34m.\u001b[0m\u001b[0m_reader\u001b[0m \u001b[0;34m=\u001b[0m \u001b[0mparsers\u001b[0m\u001b[0;34m.\u001b[0m\u001b[0mTextReader\u001b[0m\u001b[0;34m(\u001b[0m\u001b[0msrc\u001b[0m\u001b[0;34m,\u001b[0m \u001b[0;34m**\u001b[0m\u001b[0mkwds\u001b[0m\u001b[0;34m)\u001b[0m\u001b[0;34m\u001b[0m\u001b[0m\n\u001b[0m\u001b[1;32m   1709\u001b[0m \u001b[0;34m\u001b[0m\u001b[0m\n\u001b[1;32m   1710\u001b[0m         \u001b[0mpassed_names\u001b[0m \u001b[0;34m=\u001b[0m \u001b[0mself\u001b[0m\u001b[0;34m.\u001b[0m\u001b[0mnames\u001b[0m \u001b[0;32mis\u001b[0m \u001b[0;32mNone\u001b[0m\u001b[0;34m\u001b[0m\u001b[0m\n",
      "\u001b[0;32mpandas/_libs/parsers.pyx\u001b[0m in \u001b[0;36mpandas._libs.parsers.TextReader.__cinit__\u001b[0;34m()\u001b[0m\n",
      "\u001b[0;32mpandas/_libs/parsers.pyx\u001b[0m in \u001b[0;36mpandas._libs.parsers.TextReader._setup_parser_source\u001b[0;34m()\u001b[0m\n",
      "\u001b[0;31mFileNotFoundError\u001b[0m: File b'MLR.csv' does not exist"
     ]
    }
   ],
   "source": [
    "mlr = pd.read_csv('MLR.csv')\n",
    "mlr.head(10)"
   ]
  },
  {
   "cell_type": "code",
   "execution_count": 0,
   "metadata": {
    "colab": {},
    "colab_type": "code",
    "id": "9u4Bv4OHDL3E"
   },
   "outputs": [],
   "source": [
    "# budgets vs sales\n",
    "bslope, bintercept, r_value, p_value, slope_std_error = stats.linregress(mlr['Marketing Budget'], mlr['Number of Sales'])\n",
    "# visits vs sales\n",
    "vslope, vintercept, r_value, p_value, slope_std_error = stats.linregress(mlr['Website Visits'], mlr['Number of Sales'])"
   ]
  },
  {
   "cell_type": "code",
   "execution_count": 0,
   "metadata": {
    "colab": {},
    "colab_type": "code",
    "id": "tb4XgI65DL3G"
   },
   "outputs": [],
   "source": [
    "def budget_line(x):\n",
    "    return bslope*x + bintercept\n",
    "def visit_line(x):\n",
    "    return vslope*x + vintercept"
   ]
  },
  {
   "cell_type": "code",
   "execution_count": 0,
   "metadata": {
    "colab": {},
    "colab_type": "code",
    "id": "Y9hHKVEPDL3I",
    "outputId": "3395192e-5040-4002-bc54-f8578f8201d0"
   },
   "outputs": [
    {
     "data": {
      "text/plain": [
       "27.143710136417219"
      ]
     },
     "execution_count": 20,
     "metadata": {
      "tags": []
     },
     "output_type": "execute_result"
    }
   ],
   "source": [
    "# The original model had a value of 20.0 for (budget,visits) = (1.6,2.1)\n",
    "budget_line(1.6)"
   ]
  },
  {
   "cell_type": "code",
   "execution_count": 0,
   "metadata": {
    "colab": {},
    "colab_type": "code",
    "id": "cbOZ43i7DL3L",
    "outputId": "b55e229a-5a67-48ee-ec80-fd5628776573"
   },
   "outputs": [
    {
     "data": {
      "text/plain": [
       "18.386730952370556"
      ]
     },
     "execution_count": 22,
     "metadata": {
      "tags": []
     },
     "output_type": "execute_result"
    }
   ],
   "source": [
    "visit_line(2.1)"
   ]
  },
  {
   "cell_type": "code",
   "execution_count": 0,
   "metadata": {
    "colab": {},
    "colab_type": "code",
    "id": "4kr_e5e2DL3N",
    "outputId": "ad104839-ac5d-40ee-f8e4-59d2289b113a"
   },
   "outputs": [
    {
     "name": "stdout",
     "output_type": "stream",
     "text": [
      "The budget line was off by -35.7185506821 percent\n",
      "The visit line was off by 8.06634523815 percent\n"
     ]
    }
   ],
   "source": [
    "b = (20.0-budget_line(1.6))/20.0*100\n",
    "v = (20.0-visit_line(2.1))/20.0*100\n",
    "print('The budget line was off by %s percent' % b)\n",
    "print('The visit line was off by %s percent' % v)"
   ]
  },
  {
   "cell_type": "markdown",
   "metadata": {
    "colab_type": "text",
    "id": "BJl6S9MLDL3P"
   },
   "source": [
    "# 3."
   ]
  },
  {
   "cell_type": "code",
   "execution_count": 0,
   "metadata": {
    "colab": {},
    "colab_type": "code",
    "id": "BYAdCLJ_DL3Q"
   },
   "outputs": [],
   "source": [
    "x1 = np.array([0.1,2.1,2.5,3.3,6.1,7.2,8.3,8.7,9.0])\n",
    "y1 = np.array([3.1,1.5,3.5,2.0,6.0,8.5,7.1,9.5,6.7])"
   ]
  },
  {
   "cell_type": "code",
   "execution_count": 0,
   "metadata": {
    "colab": {},
    "colab_type": "code",
    "id": "cMiScnKeDL3R"
   },
   "outputs": [],
   "source": [
    "b0, b1, b2, b3 = np.polynomial.polynomial.polyfit(x1, y1, 3)\n",
    "d0, d1, d2, d3, d4, d5 = np.polynomial.polynomial.polyfit(x1, y1, 5)\n",
    "intc,slp = np.polynomial.polynomial.polyfit(x1, y1, 1)"
   ]
  },
  {
   "cell_type": "code",
   "execution_count": 0,
   "metadata": {
    "colab": {},
    "colab_type": "code",
    "id": "71glNXaCDL3T",
    "outputId": "9d243681-a3cc-4906-e3b6-a1dbf70a3359"
   },
   "outputs": [
    {
     "data": {
      "image/png": "[encoded data removed]",
      "text/plain": [
       "<matplotlib.figure.Figure at 0xd26d278>"
      ]
     },
     "metadata": {
      "tags": []
     },
     "output_type": "display_data"
    }
   ],
   "source": [
    "x2 = np.arange(0,10+0.01,0.01)\n",
    "scatter(x1,y1);\n",
    "scatter(10,8.9, color='red');\n",
    "plt.plot(x2, slp*x2 + intc, color='green',label='Linear');\n",
    "plt.plot(x2,d0 + d1*x2 + d2*(x2**2)+ d3*(x2**3)+ d4*(x2**4)+ d5*(x2**5), color='purple',label='Quintic');\n",
    "plt.plot(x2,b0 + b1*x2 + b2*(x2**2)+ b3*(x2**3), color='orange',label='Cubic');\n",
    "plt.legend()\n",
    "plt.show();"
   ]
  },
  {
   "cell_type": "code",
   "execution_count": 0,
   "metadata": {
    "colab": {},
    "colab_type": "code",
    "id": "W1wnf06KDL3V",
    "outputId": "59769b81-4a2a-4f58-c86b-21f428480fd2"
   },
   "outputs": [
    {
     "name": "stdout",
     "output_type": "stream",
     "text": [
      "The absolute error for the linear model was 0.0372720123792\n",
      "The absolute error for the cubic model was 2.70622092133\n",
      "The absolute error for the quintic model was 7.13587497185\n"
     ]
    }
   ],
   "source": [
    "print('The absolute error for the linear model was %s' % abs(8.9 - (slp*10 + intc)))\n",
    "print('The absolute error for the cubic model was %s' % abs(8.9 - (b0 + b1*10 + b2*(10**2)+ b3*(10**3))))\n",
    "print('The absolute error for the quintic model was %s' % abs(8.9 - (d0 + d1*10 + d2*(10**2)+ d3*(10**3)\n",
    "                                                                     + d4*(10**4)+ d5*(10**5))))"
   ]
  },
  {
   "cell_type": "markdown",
   "metadata": {
    "colab_type": "text",
    "id": "Mb7ZK6eADL3Y"
   },
   "source": [
    "So the linear model was by far the closest."
   ]
  },
  {
   "cell_type": "markdown",
   "metadata": {
    "colab_type": "text",
    "id": "mInmDqOsDL3Z"
   },
   "source": [
    "# 4.A."
   ]
  },
  {
   "cell_type": "code",
   "execution_count": 11,
   "metadata": {
    "colab": {},
    "colab_type": "code",
    "id": "63GX1_WtDL3Z",
    "outputId": "69270d04-18f9-478b-f2fd-786e8aa6fd8e"
   },
   "outputs": [
    {
     "data": {
      "text/html": [
       "<table class=\"simpletable\">\n",
       "<caption>OLS Regression Results</caption>\n",
       "<tr>\n",
       "  <th>Dep. Variable:</th>        <td>MOBILITY</td>     <th>  R-squared:         </th> <td>   0.311</td> \n",
       "</tr>\n",
       "<tr>\n",
       "  <th>Model:</th>                   <td>OLS</td>       <th>  Adj. R-squared:    </th> <td>   0.311</td> \n",
       "</tr>\n",
       "<tr>\n",
       "  <th>Method:</th>             <td>Least Squares</td>  <th>  F-statistic:       </th> <td>   3946.</td> \n",
       "</tr>\n",
       "<tr>\n",
       "  <th>Date:</th>             <td>Sun, 19 Aug 2018</td> <th>  Prob (F-statistic):</th>  <td>  0.00</td>  \n",
       "</tr>\n",
       "<tr>\n",
       "  <th>Time:</th>                 <td>11:23:49</td>     <th>  Log-Likelihood:    </th> <td> -87406.</td> \n",
       "</tr>\n",
       "<tr>\n",
       "  <th>No. Observations:</th>      <td>  8757</td>      <th>  AIC:               </th> <td>1.748e+05</td>\n",
       "</tr>\n",
       "<tr>\n",
       "  <th>Df Residuals:</th>          <td>  8755</td>      <th>  BIC:               </th> <td>1.748e+05</td>\n",
       "</tr>\n",
       "<tr>\n",
       "  <th>Df Model:</th>              <td>     1</td>      <th>                     </th>     <td> </td>    \n",
       "</tr>\n",
       "<tr>\n",
       "  <th>Covariance Type:</th>      <td>nonrobust</td>    <th>                     </th>     <td> </td>    \n",
       "</tr>\n",
       "</table>\n",
       "<table class=\"simpletable\">\n",
       "<tr>\n",
       "      <td></td>         <th>coef</th>     <th>std err</th>      <th>t</th>      <th>P>|t|</th>  <th>[0.025</th>    <th>0.975]</th>  \n",
       "</tr>\n",
       "<tr>\n",
       "  <th>Intercept</th> <td> 3183.7924</td> <td>   63.814</td> <td>   49.892</td> <td> 0.000</td> <td> 3058.701</td> <td> 3308.883</td>\n",
       "</tr>\n",
       "<tr>\n",
       "  <th>EMP</th>       <td>   23.2909</td> <td>    0.371</td> <td>   62.818</td> <td> 0.000</td> <td>   22.564</td> <td>   24.018</td>\n",
       "</tr>\n",
       "</table>\n",
       "<table class=\"simpletable\">\n",
       "<tr>\n",
       "  <th>Omnibus:</th>       <td>6104.538</td> <th>  Durbin-Watson:     </th>  <td>   2.002</td> \n",
       "</tr>\n",
       "<tr>\n",
       "  <th>Prob(Omnibus):</th>  <td> 0.000</td>  <th>  Jarque-Bera (JB):  </th> <td>226322.330</td>\n",
       "</tr>\n",
       "<tr>\n",
       "  <th>Skew:</th>           <td> 2.876</td>  <th>  Prob(JB):          </th>  <td>    0.00</td> \n",
       "</tr>\n",
       "<tr>\n",
       "  <th>Kurtosis:</th>       <td>27.232</td>  <th>  Cond. No.          </th>  <td>    196.</td> \n",
       "</tr>\n",
       "</table><br/><br/>Warnings:<br/>[1] Standard Errors assume that the covariance matrix of the errors is correctly specified."
      ],
      "text/plain": [
       "<class 'statsmodels.iolib.summary.Summary'>\n",
       "\"\"\"\n",
       "                            OLS Regression Results                            \n",
       "==============================================================================\n",
       "Dep. Variable:               MOBILITY   R-squared:                       0.311\n",
       "Model:                            OLS   Adj. R-squared:                  0.311\n",
       "Method:                 Least Squares   F-statistic:                     3946.\n",
       "Date:                Sun, 19 Aug 2018   Prob (F-statistic):               0.00\n",
       "Time:                        11:23:49   Log-Likelihood:                -87406.\n",
       "No. Observations:                8757   AIC:                         1.748e+05\n",
       "Df Residuals:                    8755   BIC:                         1.748e+05\n",
       "Df Model:                           1                                         \n",
       "Covariance Type:            nonrobust                                         \n",
       "==============================================================================\n",
       "                 coef    std err          t      P>|t|      [0.025      0.975]\n",
       "------------------------------------------------------------------------------\n",
       "Intercept   3183.7924     63.814     49.892      0.000    3058.701    3308.883\n",
       "EMP           23.2909      0.371     62.818      0.000      22.564      24.018\n",
       "==============================================================================\n",
       "Omnibus:                     6104.538   Durbin-Watson:                   2.002\n",
       "Prob(Omnibus):                  0.000   Jarque-Bera (JB):           226322.330\n",
       "Skew:                           2.876   Prob(JB):                         0.00\n",
       "Kurtosis:                      27.232   Cond. No.                         196.\n",
       "==============================================================================\n",
       "\n",
       "Warnings:\n",
       "[1] Standard Errors assume that the covariance matrix of the errors is correctly specified.\n",
       "\"\"\""
      ]
     },
     "execution_count": 11,
     "metadata": {},
     "output_type": "execute_result"
    }
   ],
   "source": [
    "from statsmodels.formula.api import ols\n",
    "\n",
    "df = pd.read_csv(\"customer_info.csv\")\n",
    "r1 = ols(\"MOBILITY ~ EMP\", data = df).fit()\n",
    "r1.summary()"
   ]
  },
  {
   "cell_type": "code",
   "execution_count": 12,
   "metadata": {},
   "outputs": [
    {
     "data": {
      "text/html": [
       "<div>\n",
       "<style scoped>\n",
       "    .dataframe tbody tr th:only-of-type {\n",
       "        vertical-align: middle;\n",
       "    }\n",
       "\n",
       "    .dataframe tbody tr th {\n",
       "        vertical-align: top;\n",
       "    }\n",
       "\n",
       "    .dataframe thead th {\n",
       "        text-align: right;\n",
       "    }\n",
       "</style>\n",
       "<table border=\"1\" class=\"dataframe\">\n",
       "  <thead>\n",
       "    <tr style=\"text-align: right;\">\n",
       "      <th></th>\n",
       "      <th>CUSTOMER_ID</th>\n",
       "      <th>INDUSTRY</th>\n",
       "      <th>EMP</th>\n",
       "      <th>ANNUAL_SALES</th>\n",
       "      <th>PROVINCE</th>\n",
       "      <th>MOBILITY</th>\n",
       "      <th>INTERNET</th>\n",
       "    </tr>\n",
       "  </thead>\n",
       "  <tbody>\n",
       "    <tr>\n",
       "      <th>0</th>\n",
       "      <td>129078</td>\n",
       "      <td>Finance and Insurance</td>\n",
       "      <td>36.0</td>\n",
       "      <td>NaN</td>\n",
       "      <td>AB</td>\n",
       "      <td>10192.825459</td>\n",
       "      <td>699.539869</td>\n",
       "    </tr>\n",
       "    <tr>\n",
       "      <th>1</th>\n",
       "      <td>128424</td>\n",
       "      <td>Construction</td>\n",
       "      <td>261.0</td>\n",
       "      <td>10675108.0</td>\n",
       "      <td>BC</td>\n",
       "      <td>17367.492873</td>\n",
       "      <td>1907.819410</td>\n",
       "    </tr>\n",
       "    <tr>\n",
       "      <th>2</th>\n",
       "      <td>125960</td>\n",
       "      <td>Finance and Insurance</td>\n",
       "      <td>10.0</td>\n",
       "      <td>756786.0</td>\n",
       "      <td>AB</td>\n",
       "      <td>6162.609229</td>\n",
       "      <td>1789.017919</td>\n",
       "    </tr>\n",
       "    <tr>\n",
       "      <th>3</th>\n",
       "      <td>120981</td>\n",
       "      <td>Construction</td>\n",
       "      <td>31.0</td>\n",
       "      <td>1223808.0</td>\n",
       "      <td>BC</td>\n",
       "      <td>19176.373541</td>\n",
       "      <td>2123.016418</td>\n",
       "    </tr>\n",
       "    <tr>\n",
       "      <th>4</th>\n",
       "      <td>129251</td>\n",
       "      <td>Education</td>\n",
       "      <td>NaN</td>\n",
       "      <td>1148650.0</td>\n",
       "      <td>AB</td>\n",
       "      <td>1538.194116</td>\n",
       "      <td>1620.096543</td>\n",
       "    </tr>\n",
       "  </tbody>\n",
       "</table>\n",
       "</div>"
      ],
      "text/plain": [
       "   CUSTOMER_ID               INDUSTRY    EMP  ANNUAL_SALES PROVINCE  \\\n",
       "0       129078  Finance and Insurance   36.0           NaN       AB   \n",
       "1       128424           Construction  261.0    10675108.0       BC   \n",
       "2       125960  Finance and Insurance   10.0      756786.0       AB   \n",
       "3       120981           Construction   31.0     1223808.0       BC   \n",
       "4       129251              Education    NaN     1148650.0       AB   \n",
       "\n",
       "       MOBILITY     INTERNET  \n",
       "0  10192.825459   699.539869  \n",
       "1  17367.492873  1907.819410  \n",
       "2   6162.609229  1789.017919  \n",
       "3  19176.373541  2123.016418  \n",
       "4   1538.194116  1620.096543  "
      ]
     },
     "execution_count": 12,
     "metadata": {},
     "output_type": "execute_result"
    }
   ],
   "source": [
    "df.head()"
   ]
  },
  {
   "cell_type": "code",
   "execution_count": 0,
   "metadata": {
    "colab": {},
    "colab_type": "code",
    "id": "IhV5qvNyDL3c",
    "outputId": "a9ee540f-e09a-46b1-8efe-16eb22b73e48"
   },
   "outputs": [
    {
     "data": {
      "text/html": [
       "<table class=\"simpletable\">\n",
       "<caption>OLS Regression Results</caption>\n",
       "<tr>\n",
       "  <th>Dep. Variable:</th>        <td>INTERNET</td>     <th>  R-squared:         </th> <td>   0.024</td> \n",
       "</tr>\n",
       "<tr>\n",
       "  <th>Model:</th>                   <td>OLS</td>       <th>  Adj. R-squared:    </th> <td>   0.023</td> \n",
       "</tr>\n",
       "<tr>\n",
       "  <th>Method:</th>             <td>Least Squares</td>  <th>  F-statistic:       </th> <td>   211.6</td> \n",
       "</tr>\n",
       "<tr>\n",
       "  <th>Date:</th>             <td>Tue, 31 Oct 2017</td> <th>  Prob (F-statistic):</th> <td>2.14e-47</td> \n",
       "</tr>\n",
       "<tr>\n",
       "  <th>Time:</th>                 <td>16:28:58</td>     <th>  Log-Likelihood:    </th> <td> -83031.</td> \n",
       "</tr>\n",
       "<tr>\n",
       "  <th>No. Observations:</th>      <td>  8757</td>      <th>  AIC:               </th> <td>1.661e+05</td>\n",
       "</tr>\n",
       "<tr>\n",
       "  <th>Df Residuals:</th>          <td>  8755</td>      <th>  BIC:               </th> <td>1.661e+05</td>\n",
       "</tr>\n",
       "<tr>\n",
       "  <th>Df Model:</th>              <td>     1</td>      <th>                     </th>     <td> </td>    \n",
       "</tr>\n",
       "<tr>\n",
       "  <th>Covariance Type:</th>      <td>nonrobust</td>    <th>                     </th>     <td> </td>    \n",
       "</tr>\n",
       "</table>\n",
       "<table class=\"simpletable\">\n",
       "<tr>\n",
       "      <td></td>         <th>coef</th>     <th>std err</th>      <th>t</th>      <th>P>|t|</th>  <th>[0.025</th>    <th>0.975]</th>  \n",
       "</tr>\n",
       "<tr>\n",
       "  <th>Intercept</th> <td> 3230.7174</td> <td>   38.724</td> <td>   83.430</td> <td> 0.000</td> <td> 3154.810</td> <td> 3306.625</td>\n",
       "</tr>\n",
       "<tr>\n",
       "  <th>EMP</th>       <td>    3.2731</td> <td>    0.225</td> <td>   14.548</td> <td> 0.000</td> <td>    2.832</td> <td>    3.714</td>\n",
       "</tr>\n",
       "</table>\n",
       "<table class=\"simpletable\">\n",
       "<tr>\n",
       "  <th>Omnibus:</th>       <td>1913.515</td> <th>  Durbin-Watson:     </th> <td>   2.010</td>\n",
       "</tr>\n",
       "<tr>\n",
       "  <th>Prob(Omnibus):</th>  <td> 0.000</td>  <th>  Jarque-Bera (JB):  </th> <td>3490.841</td>\n",
       "</tr>\n",
       "<tr>\n",
       "  <th>Skew:</th>           <td> 1.396</td>  <th>  Prob(JB):          </th> <td>    0.00</td>\n",
       "</tr>\n",
       "<tr>\n",
       "  <th>Kurtosis:</th>       <td> 4.331</td>  <th>  Cond. No.          </th> <td>    196.</td>\n",
       "</tr>\n",
       "</table>"
      ],
      "text/plain": [
       "<class 'statsmodels.iolib.summary.Summary'>\n",
       "\"\"\"\n",
       "                            OLS Regression Results                            \n",
       "==============================================================================\n",
       "Dep. Variable:               INTERNET   R-squared:                       0.024\n",
       "Model:                            OLS   Adj. R-squared:                  0.023\n",
       "Method:                 Least Squares   F-statistic:                     211.6\n",
       "Date:                Tue, 31 Oct 2017   Prob (F-statistic):           2.14e-47\n",
       "Time:                        16:28:58   Log-Likelihood:                -83031.\n",
       "No. Observations:                8757   AIC:                         1.661e+05\n",
       "Df Residuals:                    8755   BIC:                         1.661e+05\n",
       "Df Model:                           1                                         \n",
       "Covariance Type:            nonrobust                                         \n",
       "==============================================================================\n",
       "                 coef    std err          t      P>|t|      [0.025      0.975]\n",
       "------------------------------------------------------------------------------\n",
       "Intercept   3230.7174     38.724     83.430      0.000    3154.810    3306.625\n",
       "EMP            3.2731      0.225     14.548      0.000       2.832       3.714\n",
       "==============================================================================\n",
       "Omnibus:                     1913.515   Durbin-Watson:                   2.010\n",
       "Prob(Omnibus):                  0.000   Jarque-Bera (JB):             3490.841\n",
       "Skew:                           1.396   Prob(JB):                         0.00\n",
       "Kurtosis:                       4.331   Cond. No.                         196.\n",
       "==============================================================================\n",
       "\n",
       "Warnings:\n",
       "[1] Standard Errors assume that the covariance matrix of the errors is correctly specified.\n",
       "\"\"\""
      ]
     },
     "execution_count": 51,
     "metadata": {
      "tags": []
     },
     "output_type": "execute_result"
    }
   ],
   "source": [
    "r2 = ols(\"INTERNET ~ EMP\", data = df).fit()\n",
    "r2.summary()"
   ]
  },
  {
   "cell_type": "markdown",
   "metadata": {
    "colab_type": "text",
    "id": "hsonmSHODL3e"
   },
   "source": [
    "The results show that on average, Mobility revenue increases by about \\$23 per additional employee, and Internet revenue increases by about \\$3 per additional employee. This seems to make sense since Mobility revenue is intuitively more of a variable cost, especially for companies that purchase phones for their employees."
   ]
  },
  {
   "cell_type": "markdown",
   "metadata": {
    "colab_type": "text",
    "id": "kwWxHLOpDL3e"
   },
   "source": [
    "# B.\n",
    "\n",
    "For construction & finance:"
   ]
  },
  {
   "cell_type": "code",
   "execution_count": 0,
   "metadata": {
    "colab": {},
    "colab_type": "code",
    "id": "j8f-VsDyDL3f"
   },
   "outputs": [],
   "source": [
    "fin = df[df.INDUSTRY == \"Finance and Insurance\"]\n",
    "con = df[df.INDUSTRY == \"Construction\"]"
   ]
  },
  {
   "cell_type": "code",
   "execution_count": 0,
   "metadata": {
    "colab": {},
    "colab_type": "code",
    "id": "hsuz8KbqDL3j",
    "outputId": "6ffbb8c0-0a58-44a6-a95b-71f4e41229e5"
   },
   "outputs": [
    {
     "data": {
      "text/html": [
       "<table class=\"simpletable\">\n",
       "<caption>OLS Regression Results</caption>\n",
       "<tr>\n",
       "  <th>Dep. Variable:</th>        <td>MOBILITY</td>     <th>  R-squared:         </th> <td>   0.000</td> \n",
       "</tr>\n",
       "<tr>\n",
       "  <th>Model:</th>                   <td>OLS</td>       <th>  Adj. R-squared:    </th> <td>  -0.001</td> \n",
       "</tr>\n",
       "<tr>\n",
       "  <th>Method:</th>             <td>Least Squares</td>  <th>  F-statistic:       </th> <td> 0.05819</td> \n",
       "</tr>\n",
       "<tr>\n",
       "  <th>Date:</th>             <td>Tue, 31 Oct 2017</td> <th>  Prob (F-statistic):</th>  <td> 0.809</td>  \n",
       "</tr>\n",
       "<tr>\n",
       "  <th>Time:</th>                 <td>16:29:56</td>     <th>  Log-Likelihood:    </th> <td> -14238.</td> \n",
       "</tr>\n",
       "<tr>\n",
       "  <th>No. Observations:</th>      <td>  1457</td>      <th>  AIC:               </th> <td>2.848e+04</td>\n",
       "</tr>\n",
       "<tr>\n",
       "  <th>Df Residuals:</th>          <td>  1455</td>      <th>  BIC:               </th> <td>2.849e+04</td>\n",
       "</tr>\n",
       "<tr>\n",
       "  <th>Df Model:</th>              <td>     1</td>      <th>                     </th>     <td> </td>    \n",
       "</tr>\n",
       "<tr>\n",
       "  <th>Covariance Type:</th>      <td>nonrobust</td>    <th>                     </th>     <td> </td>    \n",
       "</tr>\n",
       "</table>\n",
       "<table class=\"simpletable\">\n",
       "<tr>\n",
       "      <td></td>         <th>coef</th>     <th>std err</th>      <th>t</th>      <th>P>|t|</th>  <th>[0.025</th>    <th>0.975]</th>  \n",
       "</tr>\n",
       "<tr>\n",
       "  <th>Intercept</th> <td> 4131.4405</td> <td>  146.237</td> <td>   28.252</td> <td> 0.000</td> <td> 3844.584</td> <td> 4418.297</td>\n",
       "</tr>\n",
       "<tr>\n",
       "  <th>EMP</th>       <td>   -0.5573</td> <td>    2.310</td> <td>   -0.241</td> <td> 0.809</td> <td>   -5.089</td> <td>    3.975</td>\n",
       "</tr>\n",
       "</table>\n",
       "<table class=\"simpletable\">\n",
       "<tr>\n",
       "  <th>Omnibus:</th>       <td>1639.560</td> <th>  Durbin-Watson:     </th>  <td>   1.964</td> \n",
       "</tr>\n",
       "<tr>\n",
       "  <th>Prob(Omnibus):</th>  <td> 0.000</td>  <th>  Jarque-Bera (JB):  </th> <td>274899.645</td>\n",
       "</tr>\n",
       "<tr>\n",
       "  <th>Skew:</th>           <td> 5.328</td>  <th>  Prob(JB):          </th>  <td>    0.00</td> \n",
       "</tr>\n",
       "<tr>\n",
       "  <th>Kurtosis:</th>       <td>69.443</td>  <th>  Cond. No.          </th>  <td>    83.2</td> \n",
       "</tr>\n",
       "</table>"
      ],
      "text/plain": [
       "<class 'statsmodels.iolib.summary.Summary'>\n",
       "\"\"\"\n",
       "                            OLS Regression Results                            \n",
       "==============================================================================\n",
       "Dep. Variable:               MOBILITY   R-squared:                       0.000\n",
       "Model:                            OLS   Adj. R-squared:                 -0.001\n",
       "Method:                 Least Squares   F-statistic:                   0.05819\n",
       "Date:                Tue, 31 Oct 2017   Prob (F-statistic):              0.809\n",
       "Time:                        16:29:56   Log-Likelihood:                -14238.\n",
       "No. Observations:                1457   AIC:                         2.848e+04\n",
       "Df Residuals:                    1455   BIC:                         2.849e+04\n",
       "Df Model:                           1                                         \n",
       "Covariance Type:            nonrobust                                         \n",
       "==============================================================================\n",
       "                 coef    std err          t      P>|t|      [0.025      0.975]\n",
       "------------------------------------------------------------------------------\n",
       "Intercept   4131.4405    146.237     28.252      0.000    3844.584    4418.297\n",
       "EMP           -0.5573      2.310     -0.241      0.809      -5.089       3.975\n",
       "==============================================================================\n",
       "Omnibus:                     1639.560   Durbin-Watson:                   1.964\n",
       "Prob(Omnibus):                  0.000   Jarque-Bera (JB):           274899.645\n",
       "Skew:                           5.328   Prob(JB):                         0.00\n",
       "Kurtosis:                      69.443   Cond. No.                         83.2\n",
       "==============================================================================\n",
       "\n",
       "Warnings:\n",
       "[1] Standard Errors assume that the covariance matrix of the errors is correctly specified.\n",
       "\"\"\""
      ]
     },
     "execution_count": 53,
     "metadata": {
      "tags": []
     },
     "output_type": "execute_result"
    }
   ],
   "source": [
    "fin_regression = ols(\"MOBILITY ~ EMP\", data = fin).fit()\n",
    "fin_regression.summary()"
   ]
  },
  {
   "cell_type": "code",
   "execution_count": 0,
   "metadata": {
    "colab": {},
    "colab_type": "code",
    "id": "eQoHNMi3DL3m",
    "outputId": "5a50f745-47eb-4178-cf28-be10ab602b6e"
   },
   "outputs": [
    {
     "data": {
      "text/html": [
       "<table class=\"simpletable\">\n",
       "<caption>OLS Regression Results</caption>\n",
       "<tr>\n",
       "  <th>Dep. Variable:</th>        <td>MOBILITY</td>     <th>  R-squared:         </th> <td>   0.397</td> \n",
       "</tr>\n",
       "<tr>\n",
       "  <th>Model:</th>                   <td>OLS</td>       <th>  Adj. R-squared:    </th> <td>   0.397</td> \n",
       "</tr>\n",
       "<tr>\n",
       "  <th>Method:</th>             <td>Least Squares</td>  <th>  F-statistic:       </th> <td>   1207.</td> \n",
       "</tr>\n",
       "<tr>\n",
       "  <th>Date:</th>             <td>Tue, 31 Oct 2017</td> <th>  Prob (F-statistic):</th> <td>1.14e-203</td>\n",
       "</tr>\n",
       "<tr>\n",
       "  <th>Time:</th>                 <td>16:30:18</td>     <th>  Log-Likelihood:    </th> <td> -18887.</td> \n",
       "</tr>\n",
       "<tr>\n",
       "  <th>No. Observations:</th>      <td>  1835</td>      <th>  AIC:               </th> <td>3.778e+04</td>\n",
       "</tr>\n",
       "<tr>\n",
       "  <th>Df Residuals:</th>          <td>  1833</td>      <th>  BIC:               </th> <td>3.779e+04</td>\n",
       "</tr>\n",
       "<tr>\n",
       "  <th>Df Model:</th>              <td>     1</td>      <th>                     </th>     <td> </td>    \n",
       "</tr>\n",
       "<tr>\n",
       "  <th>Covariance Type:</th>      <td>nonrobust</td>    <th>                     </th>     <td> </td>    \n",
       "</tr>\n",
       "</table>\n",
       "<table class=\"simpletable\">\n",
       "<tr>\n",
       "      <td></td>         <th>coef</th>     <th>std err</th>      <th>t</th>      <th>P>|t|</th>  <th>[0.025</th>    <th>0.975]</th>  \n",
       "</tr>\n",
       "<tr>\n",
       "  <th>Intercept</th> <td> 6723.7707</td> <td>  200.454</td> <td>   33.543</td> <td> 0.000</td> <td> 6330.629</td> <td> 7116.913</td>\n",
       "</tr>\n",
       "<tr>\n",
       "  <th>EMP</th>       <td>   22.2663</td> <td>    0.641</td> <td>   34.747</td> <td> 0.000</td> <td>   21.009</td> <td>   23.523</td>\n",
       "</tr>\n",
       "</table>\n",
       "<table class=\"simpletable\">\n",
       "<tr>\n",
       "  <th>Omnibus:</th>       <td>849.926</td> <th>  Durbin-Watson:     </th> <td>   1.945</td> \n",
       "</tr>\n",
       "<tr>\n",
       "  <th>Prob(Omnibus):</th> <td> 0.000</td>  <th>  Jarque-Bera (JB):  </th> <td>12751.398</td>\n",
       "</tr>\n",
       "<tr>\n",
       "  <th>Skew:</th>          <td> 1.779</td>  <th>  Prob(JB):          </th> <td>    0.00</td> \n",
       "</tr>\n",
       "<tr>\n",
       "  <th>Kurtosis:</th>      <td>15.414</td>  <th>  Cond. No.          </th> <td>    376.</td> \n",
       "</tr>\n",
       "</table>"
      ],
      "text/plain": [
       "<class 'statsmodels.iolib.summary.Summary'>\n",
       "\"\"\"\n",
       "                            OLS Regression Results                            \n",
       "==============================================================================\n",
       "Dep. Variable:               MOBILITY   R-squared:                       0.397\n",
       "Model:                            OLS   Adj. R-squared:                  0.397\n",
       "Method:                 Least Squares   F-statistic:                     1207.\n",
       "Date:                Tue, 31 Oct 2017   Prob (F-statistic):          1.14e-203\n",
       "Time:                        16:30:18   Log-Likelihood:                -18887.\n",
       "No. Observations:                1835   AIC:                         3.778e+04\n",
       "Df Residuals:                    1833   BIC:                         3.779e+04\n",
       "Df Model:                           1                                         \n",
       "Covariance Type:            nonrobust                                         \n",
       "==============================================================================\n",
       "                 coef    std err          t      P>|t|      [0.025      0.975]\n",
       "------------------------------------------------------------------------------\n",
       "Intercept   6723.7707    200.454     33.543      0.000    6330.629    7116.913\n",
       "EMP           22.2663      0.641     34.747      0.000      21.009      23.523\n",
       "==============================================================================\n",
       "Omnibus:                      849.926   Durbin-Watson:                   1.945\n",
       "Prob(Omnibus):                  0.000   Jarque-Bera (JB):            12751.398\n",
       "Skew:                           1.779   Prob(JB):                         0.00\n",
       "Kurtosis:                      15.414   Cond. No.                         376.\n",
       "==============================================================================\n",
       "\n",
       "Warnings:\n",
       "[1] Standard Errors assume that the covariance matrix of the errors is correctly specified.\n",
       "\"\"\""
      ]
     },
     "execution_count": 54,
     "metadata": {
      "tags": []
     },
     "output_type": "execute_result"
    }
   ],
   "source": [
    "con_regression = ols(\"MOBILITY ~ EMP\", data = con).fit()\n",
    "con_regression.summary()"
   ]
  },
  {
   "cell_type": "markdown",
   "metadata": {
    "colab_type": "text",
    "id": "Nuk5AMd5DL3o"
   },
   "source": [
    "These results show that in the finance industry, there is not really any correlation (if anything, it is negative) between the number of employees and mobility revenue. On the other hand, in construction each additional employee leads to \\$22 in mobility revenue. Maybe this suggests that in the finance industry it is rare for many employees to get phones, but it is relatively common in construction."
   ]
  },
  {
   "cell_type": "markdown",
   "metadata": {
    "colab_type": "text",
    "id": "blvIbeP0DL3o"
   },
   "source": [
    "# C."
   ]
  },
  {
   "cell_type": "code",
   "execution_count": 0,
   "metadata": {
    "colab": {},
    "colab_type": "code",
    "id": "VGL1_OVNDL3p",
    "outputId": "500cc32f-7ce0-44e4-c036-5a355e00826a"
   },
   "outputs": [
    {
     "data": {
      "text/html": [
       "<table class=\"simpletable\">\n",
       "<caption>OLS Regression Results</caption>\n",
       "<tr>\n",
       "  <th>Dep. Variable:</th>        <td>INTERNET</td>     <th>  R-squared:         </th> <td>   0.057</td> \n",
       "</tr>\n",
       "<tr>\n",
       "  <th>Model:</th>                   <td>OLS</td>       <th>  Adj. R-squared:    </th> <td>   0.057</td> \n",
       "</tr>\n",
       "<tr>\n",
       "  <th>Method:</th>             <td>Least Squares</td>  <th>  F-statistic:       </th> <td>   88.56</td> \n",
       "</tr>\n",
       "<tr>\n",
       "  <th>Date:</th>             <td>Tue, 31 Oct 2017</td> <th>  Prob (F-statistic):</th> <td>1.86e-20</td> \n",
       "</tr>\n",
       "<tr>\n",
       "  <th>Time:</th>                 <td>16:31:02</td>     <th>  Log-Likelihood:    </th> <td> -13693.</td> \n",
       "</tr>\n",
       "<tr>\n",
       "  <th>No. Observations:</th>      <td>  1457</td>      <th>  AIC:               </th> <td>2.739e+04</td>\n",
       "</tr>\n",
       "<tr>\n",
       "  <th>Df Residuals:</th>          <td>  1455</td>      <th>  BIC:               </th> <td>2.740e+04</td>\n",
       "</tr>\n",
       "<tr>\n",
       "  <th>Df Model:</th>              <td>     1</td>      <th>                     </th>     <td> </td>    \n",
       "</tr>\n",
       "<tr>\n",
       "  <th>Covariance Type:</th>      <td>nonrobust</td>    <th>                     </th>     <td> </td>    \n",
       "</tr>\n",
       "</table>\n",
       "<table class=\"simpletable\">\n",
       "<tr>\n",
       "      <td></td>         <th>coef</th>     <th>std err</th>      <th>t</th>      <th>P>|t|</th>  <th>[0.025</th>    <th>0.975]</th>  \n",
       "</tr>\n",
       "<tr>\n",
       "  <th>Intercept</th> <td> 2710.2125</td> <td>  100.569</td> <td>   26.949</td> <td> 0.000</td> <td> 2512.937</td> <td> 2907.488</td>\n",
       "</tr>\n",
       "<tr>\n",
       "  <th>EMP</th>       <td>   14.9522</td> <td>    1.589</td> <td>    9.411</td> <td> 0.000</td> <td>   11.835</td> <td>   18.069</td>\n",
       "</tr>\n",
       "</table>\n",
       "<table class=\"simpletable\">\n",
       "<tr>\n",
       "  <th>Omnibus:</th>       <td>320.608</td> <th>  Durbin-Watson:     </th> <td>   2.034</td> \n",
       "</tr>\n",
       "<tr>\n",
       "  <th>Prob(Omnibus):</th> <td> 0.000</td>  <th>  Jarque-Bera (JB):  </th> <td> 574.530</td> \n",
       "</tr>\n",
       "<tr>\n",
       "  <th>Skew:</th>          <td> 1.379</td>  <th>  Prob(JB):          </th> <td>1.75e-125</td>\n",
       "</tr>\n",
       "<tr>\n",
       "  <th>Kurtosis:</th>      <td> 4.365</td>  <th>  Cond. No.          </th> <td>    83.2</td> \n",
       "</tr>\n",
       "</table>"
      ],
      "text/plain": [
       "<class 'statsmodels.iolib.summary.Summary'>\n",
       "\"\"\"\n",
       "                            OLS Regression Results                            \n",
       "==============================================================================\n",
       "Dep. Variable:               INTERNET   R-squared:                       0.057\n",
       "Model:                            OLS   Adj. R-squared:                  0.057\n",
       "Method:                 Least Squares   F-statistic:                     88.56\n",
       "Date:                Tue, 31 Oct 2017   Prob (F-statistic):           1.86e-20\n",
       "Time:                        16:31:02   Log-Likelihood:                -13693.\n",
       "No. Observations:                1457   AIC:                         2.739e+04\n",
       "Df Residuals:                    1455   BIC:                         2.740e+04\n",
       "Df Model:                           1                                         \n",
       "Covariance Type:            nonrobust                                         \n",
       "==============================================================================\n",
       "                 coef    std err          t      P>|t|      [0.025      0.975]\n",
       "------------------------------------------------------------------------------\n",
       "Intercept   2710.2125    100.569     26.949      0.000    2512.937    2907.488\n",
       "EMP           14.9522      1.589      9.411      0.000      11.835      18.069\n",
       "==============================================================================\n",
       "Omnibus:                      320.608   Durbin-Watson:                   2.034\n",
       "Prob(Omnibus):                  0.000   Jarque-Bera (JB):              574.530\n",
       "Skew:                           1.379   Prob(JB):                    1.75e-125\n",
       "Kurtosis:                       4.365   Cond. No.                         83.2\n",
       "==============================================================================\n",
       "\n",
       "Warnings:\n",
       "[1] Standard Errors assume that the covariance matrix of the errors is correctly specified.\n",
       "\"\"\""
      ]
     },
     "execution_count": 55,
     "metadata": {
      "tags": []
     },
     "output_type": "execute_result"
    }
   ],
   "source": [
    "fin_regression = ols(\"INTERNET ~ EMP\", data = fin).fit()\n",
    "fin_regression.summary()"
   ]
  },
  {
   "cell_type": "code",
   "execution_count": 0,
   "metadata": {
    "colab": {},
    "colab_type": "code",
    "id": "54LCROHuDL3r",
    "outputId": "3b5750f5-e869-44d1-b322-9cc0e134c043"
   },
   "outputs": [
    {
     "data": {
      "text/html": [
       "<table class=\"simpletable\">\n",
       "<caption>OLS Regression Results</caption>\n",
       "<tr>\n",
       "  <th>Dep. Variable:</th>        <td>INTERNET</td>     <th>  R-squared:         </th> <td>   0.011</td> \n",
       "</tr>\n",
       "<tr>\n",
       "  <th>Model:</th>                   <td>OLS</td>       <th>  Adj. R-squared:    </th> <td>   0.010</td> \n",
       "</tr>\n",
       "<tr>\n",
       "  <th>Method:</th>             <td>Least Squares</td>  <th>  F-statistic:       </th> <td>   20.42</td> \n",
       "</tr>\n",
       "<tr>\n",
       "  <th>Date:</th>             <td>Tue, 31 Oct 2017</td> <th>  Prob (F-statistic):</th> <td>6.61e-06</td> \n",
       "</tr>\n",
       "<tr>\n",
       "  <th>Time:</th>                 <td>16:31:10</td>     <th>  Log-Likelihood:    </th> <td> -17681.</td> \n",
       "</tr>\n",
       "<tr>\n",
       "  <th>No. Observations:</th>      <td>  1835</td>      <th>  AIC:               </th> <td>3.537e+04</td>\n",
       "</tr>\n",
       "<tr>\n",
       "  <th>Df Residuals:</th>          <td>  1833</td>      <th>  BIC:               </th> <td>3.538e+04</td>\n",
       "</tr>\n",
       "<tr>\n",
       "  <th>Df Model:</th>              <td>     1</td>      <th>                     </th>     <td> </td>    \n",
       "</tr>\n",
       "<tr>\n",
       "  <th>Covariance Type:</th>      <td>nonrobust</td>    <th>                     </th>     <td> </td>    \n",
       "</tr>\n",
       "</table>\n",
       "<table class=\"simpletable\">\n",
       "<tr>\n",
       "      <td></td>         <th>coef</th>     <th>std err</th>      <th>t</th>      <th>P>|t|</th>  <th>[0.025</th>    <th>0.975]</th>  \n",
       "</tr>\n",
       "<tr>\n",
       "  <th>Intercept</th> <td> 3970.4152</td> <td>  103.873</td> <td>   38.224</td> <td> 0.000</td> <td> 3766.693</td> <td> 4174.137</td>\n",
       "</tr>\n",
       "<tr>\n",
       "  <th>EMP</th>       <td>    1.5006</td> <td>    0.332</td> <td>    4.519</td> <td> 0.000</td> <td>    0.849</td> <td>    2.152</td>\n",
       "</tr>\n",
       "</table>\n",
       "<table class=\"simpletable\">\n",
       "<tr>\n",
       "  <th>Omnibus:</th>       <td>233.018</td> <th>  Durbin-Watson:     </th> <td>   1.956</td>\n",
       "</tr>\n",
       "<tr>\n",
       "  <th>Prob(Omnibus):</th> <td> 0.000</td>  <th>  Jarque-Bera (JB):  </th> <td> 331.307</td>\n",
       "</tr>\n",
       "<tr>\n",
       "  <th>Skew:</th>          <td> 1.041</td>  <th>  Prob(JB):          </th> <td>1.14e-72</td>\n",
       "</tr>\n",
       "<tr>\n",
       "  <th>Kurtosis:</th>      <td> 3.019</td>  <th>  Cond. No.          </th> <td>    376.</td>\n",
       "</tr>\n",
       "</table>"
      ],
      "text/plain": [
       "<class 'statsmodels.iolib.summary.Summary'>\n",
       "\"\"\"\n",
       "                            OLS Regression Results                            \n",
       "==============================================================================\n",
       "Dep. Variable:               INTERNET   R-squared:                       0.011\n",
       "Model:                            OLS   Adj. R-squared:                  0.010\n",
       "Method:                 Least Squares   F-statistic:                     20.42\n",
       "Date:                Tue, 31 Oct 2017   Prob (F-statistic):           6.61e-06\n",
       "Time:                        16:31:10   Log-Likelihood:                -17681.\n",
       "No. Observations:                1835   AIC:                         3.537e+04\n",
       "Df Residuals:                    1833   BIC:                         3.538e+04\n",
       "Df Model:                           1                                         \n",
       "Covariance Type:            nonrobust                                         \n",
       "==============================================================================\n",
       "                 coef    std err          t      P>|t|      [0.025      0.975]\n",
       "------------------------------------------------------------------------------\n",
       "Intercept   3970.4152    103.873     38.224      0.000    3766.693    4174.137\n",
       "EMP            1.5006      0.332      4.519      0.000       0.849       2.152\n",
       "==============================================================================\n",
       "Omnibus:                      233.018   Durbin-Watson:                   1.956\n",
       "Prob(Omnibus):                  0.000   Jarque-Bera (JB):              331.307\n",
       "Skew:                           1.041   Prob(JB):                     1.14e-72\n",
       "Kurtosis:                       3.019   Cond. No.                         376.\n",
       "==============================================================================\n",
       "\n",
       "Warnings:\n",
       "[1] Standard Errors assume that the covariance matrix of the errors is correctly specified.\n",
       "\"\"\""
      ]
     },
     "execution_count": 56,
     "metadata": {
      "tags": []
     },
     "output_type": "execute_result"
    }
   ],
   "source": [
    "con_regression = ols(\"INTERNET ~ EMP\", data = con).fit()\n",
    "con_regression.summary()"
   ]
  },
  {
   "cell_type": "markdown",
   "metadata": {
    "colab_type": "text",
    "id": "bUa9AM5pDL3t"
   },
   "source": [
    "This shows that in finance, companies spend \\$14 for every additional employee, whereas in construction they spend on \\$1.50 more on each additional employee. Note that the $R^2$ measures here are much smaller than for mobility, but the corefficients are still significant.\n"
   ]
  },
  {
   "cell_type": "markdown",
   "metadata": {
    "colab_type": "text",
    "id": "28e3CpTYDL3u"
   },
   "source": [
    "# D."
   ]
  },
  {
   "cell_type": "code",
   "execution_count": 0,
   "metadata": {
    "colab": {},
    "colab_type": "code",
    "id": "0A66rrLjDL3u",
    "outputId": "6fe3823e-0dc5-4580-f702-e030078be47b"
   },
   "outputs": [
    {
     "data": {
      "text/html": [
       "<table class=\"simpletable\">\n",
       "<caption>OLS Regression Results</caption>\n",
       "<tr>\n",
       "  <th>Dep. Variable:</th>        <td>MOBILITY</td>     <th>  R-squared:         </th> <td>   0.461</td> \n",
       "</tr>\n",
       "<tr>\n",
       "  <th>Model:</th>                   <td>OLS</td>       <th>  Adj. R-squared:    </th> <td>   0.460</td> \n",
       "</tr>\n",
       "<tr>\n",
       "  <th>Method:</th>             <td>Least Squares</td>  <th>  F-statistic:       </th> <td>   672.6</td> \n",
       "</tr>\n",
       "<tr>\n",
       "  <th>Date:</th>             <td>Tue, 31 Oct 2017</td> <th>  Prob (F-statistic):</th>  <td>  0.00</td>  \n",
       "</tr>\n",
       "<tr>\n",
       "  <th>Time:</th>                 <td>16:31:56</td>     <th>  Log-Likelihood:    </th> <td> -85415.</td> \n",
       "</tr>\n",
       "<tr>\n",
       "  <th>No. Observations:</th>      <td>  8662</td>      <th>  AIC:               </th> <td>1.709e+05</td>\n",
       "</tr>\n",
       "<tr>\n",
       "  <th>Df Residuals:</th>          <td>  8650</td>      <th>  BIC:               </th> <td>1.709e+05</td>\n",
       "</tr>\n",
       "<tr>\n",
       "  <th>Df Model:</th>              <td>    11</td>      <th>                     </th>     <td> </td>    \n",
       "</tr>\n",
       "<tr>\n",
       "  <th>Covariance Type:</th>      <td>nonrobust</td>    <th>                     </th>     <td> </td>    \n",
       "</tr>\n",
       "</table>\n",
       "<table class=\"simpletable\">\n",
       "<tr>\n",
       "                    <td></td>                       <th>coef</th>     <th>std err</th>      <th>t</th>      <th>P>|t|</th>  <th>[0.025</th>    <th>0.975]</th>  \n",
       "</tr>\n",
       "<tr>\n",
       "  <th>Intercept</th>                             <td> 2420.7467</td> <td>  238.066</td> <td>   10.168</td> <td> 0.000</td> <td> 1954.080</td> <td> 2887.414</td>\n",
       "</tr>\n",
       "<tr>\n",
       "  <th>INDUSTRY[T.Construction]</th>              <td> 4303.0240</td> <td>  271.335</td> <td>   15.859</td> <td> 0.000</td> <td> 3771.142</td> <td> 4834.906</td>\n",
       "</tr>\n",
       "<tr>\n",
       "  <th>INDUSTRY[T.Education]</th>                 <td> 1375.3871</td> <td>  310.540</td> <td>    4.429</td> <td> 0.000</td> <td>  766.655</td> <td> 1984.119</td>\n",
       "</tr>\n",
       "<tr>\n",
       "  <th>INDUSTRY[T.Finance and Insurance]</th>     <td> 1710.6938</td> <td>  286.702</td> <td>    5.967</td> <td> 0.000</td> <td> 1148.689</td> <td> 2272.699</td>\n",
       "</tr>\n",
       "<tr>\n",
       "  <th>INDUSTRY[T.Food Services]</th>             <td> -939.4231</td> <td>  266.201</td> <td>   -3.529</td> <td> 0.000</td> <td>-1461.241</td> <td> -417.606</td>\n",
       "</tr>\n",
       "<tr>\n",
       "  <th>INDUSTRY[T.Healthcare]</th>                <td> 3545.3044</td> <td>  290.608</td> <td>   12.200</td> <td> 0.000</td> <td> 2975.643</td> <td> 4114.965</td>\n",
       "</tr>\n",
       "<tr>\n",
       "  <th>EMP</th>                                   <td>    2.5249</td> <td>    1.633</td> <td>    1.547</td> <td> 0.122</td> <td>   -0.675</td> <td>    5.725</td>\n",
       "</tr>\n",
       "<tr>\n",
       "  <th>INDUSTRY[T.Construction]:EMP</th>          <td>   19.7414</td> <td>    1.685</td> <td>   11.718</td> <td> 0.000</td> <td>   16.439</td> <td>   23.044</td>\n",
       "</tr>\n",
       "<tr>\n",
       "  <th>INDUSTRY[T.Education]:EMP</th>             <td>    1.8932</td> <td>    2.978</td> <td>    0.636</td> <td> 0.525</td> <td>   -3.944</td> <td>    7.730</td>\n",
       "</tr>\n",
       "<tr>\n",
       "  <th>INDUSTRY[T.Finance and Insurance]:EMP</th> <td>   -3.0822</td> <td>    3.006</td> <td>   -1.025</td> <td> 0.305</td> <td>   -8.975</td> <td>    2.810</td>\n",
       "</tr>\n",
       "<tr>\n",
       "  <th>INDUSTRY[T.Food Services]:EMP</th>         <td>    5.9179</td> <td>    2.842</td> <td>    2.082</td> <td> 0.037</td> <td>    0.346</td> <td>   11.490</td>\n",
       "</tr>\n",
       "<tr>\n",
       "  <th>INDUSTRY[T.Healthcare]:EMP</th>            <td>    6.2771</td> <td>    1.856</td> <td>    3.382</td> <td> 0.001</td> <td>    2.639</td> <td>    9.915</td>\n",
       "</tr>\n",
       "</table>\n",
       "<table class=\"simpletable\">\n",
       "<tr>\n",
       "  <th>Omnibus:</th>       <td>6695.858</td> <th>  Durbin-Watson:     </th>  <td>   1.978</td> \n",
       "</tr>\n",
       "<tr>\n",
       "  <th>Prob(Omnibus):</th>  <td> 0.000</td>  <th>  Jarque-Bera (JB):  </th> <td>388059.735</td>\n",
       "</tr>\n",
       "<tr>\n",
       "  <th>Skew:</th>           <td> 3.211</td>  <th>  Prob(JB):          </th>  <td>    0.00</td> \n",
       "</tr>\n",
       "<tr>\n",
       "  <th>Kurtosis:</th>       <td>35.155</td>  <th>  Cond. No.          </th>  <td>2.61e+03</td> \n",
       "</tr>\n",
       "</table>"
      ],
      "text/plain": [
       "<class 'statsmodels.iolib.summary.Summary'>\n",
       "\"\"\"\n",
       "                            OLS Regression Results                            \n",
       "==============================================================================\n",
       "Dep. Variable:               MOBILITY   R-squared:                       0.461\n",
       "Model:                            OLS   Adj. R-squared:                  0.460\n",
       "Method:                 Least Squares   F-statistic:                     672.6\n",
       "Date:                Tue, 31 Oct 2017   Prob (F-statistic):               0.00\n",
       "Time:                        16:31:56   Log-Likelihood:                -85415.\n",
       "No. Observations:                8662   AIC:                         1.709e+05\n",
       "Df Residuals:                    8650   BIC:                         1.709e+05\n",
       "Df Model:                          11                                         \n",
       "Covariance Type:            nonrobust                                         \n",
       "=========================================================================================================\n",
       "                                            coef    std err          t      P>|t|      [0.025      0.975]\n",
       "---------------------------------------------------------------------------------------------------------\n",
       "Intercept                              2420.7467    238.066     10.168      0.000    1954.080    2887.414\n",
       "INDUSTRY[T.Construction]               4303.0240    271.335     15.859      0.000    3771.142    4834.906\n",
       "INDUSTRY[T.Education]                  1375.3871    310.540      4.429      0.000     766.655    1984.119\n",
       "INDUSTRY[T.Finance and Insurance]      1710.6938    286.702      5.967      0.000    1148.689    2272.699\n",
       "INDUSTRY[T.Food Services]              -939.4231    266.201     -3.529      0.000   -1461.241    -417.606\n",
       "INDUSTRY[T.Healthcare]                 3545.3044    290.608     12.200      0.000    2975.643    4114.965\n",
       "EMP                                       2.5249      1.633      1.547      0.122      -0.675       5.725\n",
       "INDUSTRY[T.Construction]:EMP             19.7414      1.685     11.718      0.000      16.439      23.044\n",
       "INDUSTRY[T.Education]:EMP                 1.8932      2.978      0.636      0.525      -3.944       7.730\n",
       "INDUSTRY[T.Finance and Insurance]:EMP    -3.0822      3.006     -1.025      0.305      -8.975       2.810\n",
       "INDUSTRY[T.Food Services]:EMP             5.9179      2.842      2.082      0.037       0.346      11.490\n",
       "INDUSTRY[T.Healthcare]:EMP                6.2771      1.856      3.382      0.001       2.639       9.915\n",
       "==============================================================================\n",
       "Omnibus:                     6695.858   Durbin-Watson:                   1.978\n",
       "Prob(Omnibus):                  0.000   Jarque-Bera (JB):           388059.735\n",
       "Skew:                           3.211   Prob(JB):                         0.00\n",
       "Kurtosis:                      35.155   Cond. No.                     2.61e+03\n",
       "==============================================================================\n",
       "\n",
       "Warnings:\n",
       "[1] Standard Errors assume that the covariance matrix of the errors is correctly specified.\n",
       "[2] The condition number is large, 2.61e+03. This might indicate that there are\n",
       "strong multicollinearity or other numerical problems.\n",
       "\"\"\""
      ]
     },
     "execution_count": 57,
     "metadata": {
      "tags": []
     },
     "output_type": "execute_result"
    }
   ],
   "source": [
    "int_regression1 = ols(\"MOBILITY ~ INDUSTRY * EMP\", data = df).fit()\n",
    "int_regression1.summary()"
   ]
  },
  {
   "cell_type": "code",
   "execution_count": 0,
   "metadata": {
    "colab": {},
    "colab_type": "code",
    "id": "1W2ipbF3DL3x",
    "outputId": "6ac73e1b-97b2-46d4-cf11-6db8f888c1c4"
   },
   "outputs": [
    {
     "data": {
      "text/html": [
       "<table class=\"simpletable\">\n",
       "<caption>OLS Regression Results</caption>\n",
       "<tr>\n",
       "  <th>Dep. Variable:</th>        <td>INTERNET</td>     <th>  R-squared:         </th> <td>   0.051</td> \n",
       "</tr>\n",
       "<tr>\n",
       "  <th>Model:</th>                   <td>OLS</td>       <th>  Adj. R-squared:    </th> <td>   0.050</td> \n",
       "</tr>\n",
       "<tr>\n",
       "  <th>Method:</th>             <td>Least Squares</td>  <th>  F-statistic:       </th> <td>   42.29</td> \n",
       "</tr>\n",
       "<tr>\n",
       "  <th>Date:</th>             <td>Tue, 31 Oct 2017</td> <th>  Prob (F-statistic):</th> <td>2.73e-90</td> \n",
       "</tr>\n",
       "<tr>\n",
       "  <th>Time:</th>                 <td>16:32:08</td>     <th>  Log-Likelihood:    </th> <td> -82001.</td> \n",
       "</tr>\n",
       "<tr>\n",
       "  <th>No. Observations:</th>      <td>  8662</td>      <th>  AIC:               </th> <td>1.640e+05</td>\n",
       "</tr>\n",
       "<tr>\n",
       "  <th>Df Residuals:</th>          <td>  8650</td>      <th>  BIC:               </th> <td>1.641e+05</td>\n",
       "</tr>\n",
       "<tr>\n",
       "  <th>Df Model:</th>              <td>    11</td>      <th>                     </th>     <td> </td>    \n",
       "</tr>\n",
       "<tr>\n",
       "  <th>Covariance Type:</th>      <td>nonrobust</td>    <th>                     </th>     <td> </td>    \n",
       "</tr>\n",
       "</table>\n",
       "<table class=\"simpletable\">\n",
       "<tr>\n",
       "                    <td></td>                       <th>coef</th>     <th>std err</th>      <th>t</th>      <th>P>|t|</th>  <th>[0.025</th>    <th>0.975]</th>  \n",
       "</tr>\n",
       "<tr>\n",
       "  <th>Intercept</th>                             <td> 3477.0351</td> <td>  160.534</td> <td>   21.659</td> <td> 0.000</td> <td> 3162.350</td> <td> 3791.721</td>\n",
       "</tr>\n",
       "<tr>\n",
       "  <th>INDUSTRY[T.Construction]</th>              <td>  493.3802</td> <td>  182.968</td> <td>    2.697</td> <td> 0.007</td> <td>  134.719</td> <td>  852.042</td>\n",
       "</tr>\n",
       "<tr>\n",
       "  <th>INDUSTRY[T.Education]</th>                 <td> -712.6793</td> <td>  209.405</td> <td>   -3.403</td> <td> 0.001</td> <td>-1123.163</td> <td> -302.196</td>\n",
       "</tr>\n",
       "<tr>\n",
       "  <th>INDUSTRY[T.Finance and Insurance]</th>     <td> -766.8226</td> <td>  193.331</td> <td>   -3.966</td> <td> 0.000</td> <td>-1145.797</td> <td> -387.848</td>\n",
       "</tr>\n",
       "<tr>\n",
       "  <th>INDUSTRY[T.Food Services]</th>             <td> -977.4749</td> <td>  179.506</td> <td>   -5.445</td> <td> 0.000</td> <td>-1329.350</td> <td> -625.600</td>\n",
       "</tr>\n",
       "<tr>\n",
       "  <th>INDUSTRY[T.Healthcare]</th>                <td>  194.3645</td> <td>  195.964</td> <td>    0.992</td> <td> 0.321</td> <td> -189.772</td> <td>  578.501</td>\n",
       "</tr>\n",
       "<tr>\n",
       "  <th>EMP</th>                                   <td>    1.4031</td> <td>    1.101</td> <td>    1.275</td> <td> 0.202</td> <td>   -0.755</td> <td>    3.561</td>\n",
       "</tr>\n",
       "<tr>\n",
       "  <th>INDUSTRY[T.Construction]:EMP</th>          <td>    0.0975</td> <td>    1.136</td> <td>    0.086</td> <td> 0.932</td> <td>   -2.129</td> <td>    2.324</td>\n",
       "</tr>\n",
       "<tr>\n",
       "  <th>INDUSTRY[T.Education]:EMP</th>             <td>   11.2051</td> <td>    2.008</td> <td>    5.581</td> <td> 0.000</td> <td>    7.269</td> <td>   15.141</td>\n",
       "</tr>\n",
       "<tr>\n",
       "  <th>INDUSTRY[T.Finance and Insurance]:EMP</th> <td>   13.5491</td> <td>    2.027</td> <td>    6.684</td> <td> 0.000</td> <td>    9.576</td> <td>   17.523</td>\n",
       "</tr>\n",
       "<tr>\n",
       "  <th>INDUSTRY[T.Food Services]:EMP</th>         <td>   10.0017</td> <td>    1.917</td> <td>    5.218</td> <td> 0.000</td> <td>    6.245</td> <td>   13.759</td>\n",
       "</tr>\n",
       "<tr>\n",
       "  <th>INDUSTRY[T.Healthcare]:EMP</th>            <td>    0.7609</td> <td>    1.252</td> <td>    0.608</td> <td> 0.543</td> <td>   -1.693</td> <td>    3.214</td>\n",
       "</tr>\n",
       "</table>\n",
       "<table class=\"simpletable\">\n",
       "<tr>\n",
       "  <th>Omnibus:</th>       <td>1721.934</td> <th>  Durbin-Watson:     </th> <td>   2.002</td>\n",
       "</tr>\n",
       "<tr>\n",
       "  <th>Prob(Omnibus):</th>  <td> 0.000</td>  <th>  Jarque-Bera (JB):  </th> <td>2969.929</td>\n",
       "</tr>\n",
       "<tr>\n",
       "  <th>Skew:</th>           <td> 1.315</td>  <th>  Prob(JB):          </th> <td>    0.00</td>\n",
       "</tr>\n",
       "<tr>\n",
       "  <th>Kurtosis:</th>       <td> 4.146</td>  <th>  Cond. No.          </th> <td>2.61e+03</td>\n",
       "</tr>\n",
       "</table>"
      ],
      "text/plain": [
       "<class 'statsmodels.iolib.summary.Summary'>\n",
       "\"\"\"\n",
       "                            OLS Regression Results                            \n",
       "==============================================================================\n",
       "Dep. Variable:               INTERNET   R-squared:                       0.051\n",
       "Model:                            OLS   Adj. R-squared:                  0.050\n",
       "Method:                 Least Squares   F-statistic:                     42.29\n",
       "Date:                Tue, 31 Oct 2017   Prob (F-statistic):           2.73e-90\n",
       "Time:                        16:32:08   Log-Likelihood:                -82001.\n",
       "No. Observations:                8662   AIC:                         1.640e+05\n",
       "Df Residuals:                    8650   BIC:                         1.641e+05\n",
       "Df Model:                          11                                         \n",
       "Covariance Type:            nonrobust                                         \n",
       "=========================================================================================================\n",
       "                                            coef    std err          t      P>|t|      [0.025      0.975]\n",
       "---------------------------------------------------------------------------------------------------------\n",
       "Intercept                              3477.0351    160.534     21.659      0.000    3162.350    3791.721\n",
       "INDUSTRY[T.Construction]                493.3802    182.968      2.697      0.007     134.719     852.042\n",
       "INDUSTRY[T.Education]                  -712.6793    209.405     -3.403      0.001   -1123.163    -302.196\n",
       "INDUSTRY[T.Finance and Insurance]      -766.8226    193.331     -3.966      0.000   -1145.797    -387.848\n",
       "INDUSTRY[T.Food Services]              -977.4749    179.506     -5.445      0.000   -1329.350    -625.600\n",
       "INDUSTRY[T.Healthcare]                  194.3645    195.964      0.992      0.321    -189.772     578.501\n",
       "EMP                                       1.4031      1.101      1.275      0.202      -0.755       3.561\n",
       "INDUSTRY[T.Construction]:EMP              0.0975      1.136      0.086      0.932      -2.129       2.324\n",
       "INDUSTRY[T.Education]:EMP                11.2051      2.008      5.581      0.000       7.269      15.141\n",
       "INDUSTRY[T.Finance and Insurance]:EMP    13.5491      2.027      6.684      0.000       9.576      17.523\n",
       "INDUSTRY[T.Food Services]:EMP            10.0017      1.917      5.218      0.000       6.245      13.759\n",
       "INDUSTRY[T.Healthcare]:EMP                0.7609      1.252      0.608      0.543      -1.693       3.214\n",
       "==============================================================================\n",
       "Omnibus:                     1721.934   Durbin-Watson:                   2.002\n",
       "Prob(Omnibus):                  0.000   Jarque-Bera (JB):             2969.929\n",
       "Skew:                           1.315   Prob(JB):                         0.00\n",
       "Kurtosis:                       4.146   Cond. No.                     2.61e+03\n",
       "==============================================================================\n",
       "\n",
       "Warnings:\n",
       "[1] Standard Errors assume that the covariance matrix of the errors is correctly specified.\n",
       "[2] The condition number is large, 2.61e+03. This might indicate that there are\n",
       "strong multicollinearity or other numerical problems.\n",
       "\"\"\""
      ]
     },
     "execution_count": 58,
     "metadata": {
      "tags": []
     },
     "output_type": "execute_result"
    }
   ],
   "source": [
    "int_regression2 = ols(\"INTERNET ~ INDUSTRY * EMP\", data = df).fit()\n",
    "int_regression2.summary()"
   ]
  },
  {
   "cell_type": "markdown",
   "metadata": {
    "colab_type": "text",
    "id": "bESEJIVoDL30"
   },
   "source": [
    "These results show that the industry where the relationship between mobility revenue and employees is the strongest is Construction, and there is also a strong relationship in Food Services and Healthcare. The relationship is small or non-existent in Education and Finance.\n",
    "\n",
    "On the other hand, the relationship between number of employees and Internet revenue is strongest in Finance and Insurance, followed by Education and then Food Services. This relationship is small or nonexistent in Construction and Healthcare.\n"
   ]
  },
  {
   "cell_type": "markdown",
   "metadata": {
    "colab_type": "text",
    "id": "4DnW_CuRDL30"
   },
   "source": [
    "# E."
   ]
  },
  {
   "cell_type": "markdown",
   "metadata": {
    "colab_type": "text",
    "id": "TeOwwyrJDL30"
   },
   "source": [
    "The most lucrative segment for mobility is probably construction companies with a lot of employees, followed by Healthcare with a lot of employees. The number of employees doesn't really matter for Education or Finance (at least for mobility). On the other hand, Internet revenues will be highest at financial companies with many employees. Food services companies have a strong relationship in both Internet and Mobility, so food service companies with many employees will be more lucrative for package deals"
   ]
  },
  {
   "cell_type": "code",
   "execution_count": 0,
   "metadata": {
    "colab": {},
    "colab_type": "code",
    "id": "poNOZRmHDL31"
   },
   "outputs": [],
   "source": []
  }
 ],
 "metadata": {
  "colab": {
   "name": "Data Science Unit 8 Solution Manual.ipynb",
   "provenance": [],
   "version": "0.3.2"
  },
  "kernelspec": {
   "display_name": "Python 3",
   "language": "python",
   "name": "python3"
  },
  "language_info": {
   "codemirror_mode": {
    "name": "ipython",
    "version": 3
   },
   "file_extension": ".py",
   "mimetype": "text/x-python",
   "name": "python",
   "nbconvert_exporter": "python",
   "pygments_lexer": "ipython3",
   "version": "3.6.5"
  }
 },
 "nbformat": 4,
 "nbformat_minor": 1
}
