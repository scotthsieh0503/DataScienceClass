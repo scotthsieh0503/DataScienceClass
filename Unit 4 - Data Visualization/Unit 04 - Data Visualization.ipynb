{
 "cells": [
  {
   "cell_type": "markdown",
   "metadata": {},
   "source": [
    "# Data Visualization\n",
    "\n",
    "When our data is low-dimensional (or when we care about pairwise combinations of data), visualizing it is a great way to get an overall idea of how the data is behaving.  It will help us inspect how well any models we create actually fit the data, and will also give us a tool to visually find potentially outliers.  These are the two main visualization tools we are going to use:\n",
    "1. Matplotlib.  One of the most commonly used graphing tools, matplotlib produces excellent static 2d and 3d plots.\n",
    "2. Bokeh. Bokeh focuses on interactive graphs, that allow for mouseover, panning, zooming, and selecting.\n",
    "\n",
    "Both packages allow embedding of graphs directly into Jupyter notebooks, as well as providing the option of outputting graphs as files; matplotlib outputs as picture files (.png, etc.), while Bokeh outputs as HTML files."
   ]
  },
  {
   "cell_type": "code",
   "execution_count": 1,
   "metadata": {},
   "outputs": [],
   "source": [
    "import pandas as pd\n",
    "import numpy as np"
   ]
  },
  {
   "cell_type": "markdown",
   "metadata": {},
   "source": [
    "## Matplotlib\n",
    "Our first step will be to import matplotlib, and then tell it to show the graphs we make *inside* the notebooks (instead of opening in a separate window/program).  Then we tell it how large a picture to show:"
   ]
  },
  {
   "cell_type": "code",
   "execution_count": 2,
   "metadata": {},
   "outputs": [
    {
     "name": "stdout",
     "output_type": "stream",
     "text": [
      "Populating the interactive namespace from numpy and matplotlib\n"
     ]
    }
   ],
   "source": [
    "import matplotlib.pyplot as plt\n",
    "%pylab inline\n",
    "pylab.rcParams['figure.figsize'] = (12.0, 10.0)"
   ]
  },
  {
   "cell_type": "markdown",
   "metadata": {},
   "source": [
    "### Basic Plots\n",
    "\n",
    "We'll start with very basic plotting; this requires very little code, but also does not give us much control over the format of the output."
   ]
  },
  {
   "cell_type": "code",
   "execution_count": 3,
   "metadata": {},
   "outputs": [
    {
     "data": {
      "text/html": [
       "<div>\n",
       "<style scoped>\n",
       "    .dataframe tbody tr th:only-of-type {\n",
       "        vertical-align: middle;\n",
       "    }\n",
       "\n",
       "    .dataframe tbody tr th {\n",
       "        vertical-align: top;\n",
       "    }\n",
       "\n",
       "    .dataframe thead th {\n",
       "        text-align: right;\n",
       "    }\n",
       "</style>\n",
       "<table border=\"1\" class=\"dataframe\">\n",
       "  <thead>\n",
       "    <tr style=\"text-align: right;\">\n",
       "      <th></th>\n",
       "      <th>A</th>\n",
       "      <th>B</th>\n",
       "      <th>C</th>\n",
       "    </tr>\n",
       "  </thead>\n",
       "  <tbody>\n",
       "    <tr>\n",
       "      <th>0</th>\n",
       "      <td>135</td>\n",
       "      <td>4</td>\n",
       "      <td>-13</td>\n",
       "    </tr>\n",
       "    <tr>\n",
       "      <th>1</th>\n",
       "      <td>184</td>\n",
       "      <td>8</td>\n",
       "      <td>-47</td>\n",
       "    </tr>\n",
       "    <tr>\n",
       "      <th>2</th>\n",
       "      <td>122</td>\n",
       "      <td>6</td>\n",
       "      <td>-26</td>\n",
       "    </tr>\n",
       "    <tr>\n",
       "      <th>3</th>\n",
       "      <td>77</td>\n",
       "      <td>4</td>\n",
       "      <td>-33</td>\n",
       "    </tr>\n",
       "    <tr>\n",
       "      <th>4</th>\n",
       "      <td>110</td>\n",
       "      <td>21</td>\n",
       "      <td>-37</td>\n",
       "    </tr>\n",
       "    <tr>\n",
       "      <th>5</th>\n",
       "      <td>94</td>\n",
       "      <td>0</td>\n",
       "      <td>-45</td>\n",
       "    </tr>\n",
       "    <tr>\n",
       "      <th>6</th>\n",
       "      <td>91</td>\n",
       "      <td>18</td>\n",
       "      <td>8</td>\n",
       "    </tr>\n",
       "    <tr>\n",
       "      <th>7</th>\n",
       "      <td>130</td>\n",
       "      <td>2</td>\n",
       "      <td>-46</td>\n",
       "    </tr>\n",
       "    <tr>\n",
       "      <th>8</th>\n",
       "      <td>118</td>\n",
       "      <td>15</td>\n",
       "      <td>-13</td>\n",
       "    </tr>\n",
       "    <tr>\n",
       "      <th>9</th>\n",
       "      <td>89</td>\n",
       "      <td>7</td>\n",
       "      <td>-7</td>\n",
       "    </tr>\n",
       "  </tbody>\n",
       "</table>\n",
       "</div>"
      ],
      "text/plain": [
       "     A   B   C\n",
       "0  135   4 -13\n",
       "1  184   8 -47\n",
       "2  122   6 -26\n",
       "3   77   4 -33\n",
       "4  110  21 -37\n",
       "5   94   0 -45\n",
       "6   91  18   8\n",
       "7  130   2 -46\n",
       "8  118  15 -13\n",
       "9   89   7  -7"
      ]
     },
     "execution_count": 3,
     "metadata": {},
     "output_type": "execute_result"
    }
   ],
   "source": [
    "df1 = pd.DataFrame({'A':np.random.randint(75,200,50),'B':np.random.randint(0,25,50),'C':np.random.randint(-50,15,50)})\n",
    "df1.head(10)"
   ]
  },
  {
   "cell_type": "markdown",
   "metadata": {},
   "source": [
    "We can plot a single column by calling `.plot()` on the column object:"
   ]
  },
  {
   "cell_type": "code",
   "execution_count": 4,
   "metadata": {},
   "outputs": [
    {
     "data": {
      "image/png": "[encoded data removed]",
      "text/plain": [
       "<Figure size 432x288 with 1 Axes>"
      ]
     },
     "metadata": {},
     "output_type": "display_data"
    }
   ],
   "source": [
    "df1['A'].plot();"
   ]
  },
  {
   "cell_type": "markdown",
   "metadata": {},
   "source": [
    "By default, using `.plot()` will connect individual data points with lines to create a continuous graph.  If we do not specify colours, matplotlib will decide colours for us.  We can plot all three columns at the same time by simply calling the dataframe:"
   ]
  },
  {
   "cell_type": "code",
   "execution_count": 5,
   "metadata": {},
   "outputs": [
    {
     "data": {
      "image/png": "[encoded data removed]",
      "text/plain": [
       "<Figure size 432x288 with 1 Axes>"
      ]
     },
     "metadata": {},
     "output_type": "display_data"
    }
   ],
   "source": [
    "df1.plot();"
   ]
  },
  {
   "cell_type": "markdown",
   "metadata": {},
   "source": [
    "The reason we put a ; at the end of the plot command is it gets rid of an object identifier that is normally printed, and makes the presentation cleaner.  Without it, we get:"
   ]
  },
  {
   "cell_type": "code",
   "execution_count": 6,
   "metadata": {},
   "outputs": [
    {
     "data": {
      "text/plain": [
       "<matplotlib.axes._subplots.AxesSubplot at 0x12187c208>"
      ]
     },
     "execution_count": 6,
     "metadata": {},
     "output_type": "execute_result"
    },
    {
     "data": {
      "image/png": "[encoded data removed]",
      "text/plain": [
       "<Figure size 432x288 with 1 Axes>"
      ]
     },
     "metadata": {},
     "output_type": "display_data"
    }
   ],
   "source": [
    "df1['A'].plot()"
   ]
  },
  {
   "cell_type": "markdown",
   "metadata": {},
   "source": [
    "We can do some customization by feeding the function various arguments, including specifying a title, color, and telling it to put a legend (even if there's only one graph)."
   ]
  },
  {
   "cell_type": "code",
   "execution_count": 7,
   "metadata": {},
   "outputs": [
    {
     "data": {
      "text/plain": [
       "<matplotlib.axes._subplots.AxesSubplot at 0x121947940>"
      ]
     },
     "execution_count": 7,
     "metadata": {},
     "output_type": "execute_result"
    },
    {
     "data": {
      "image/png": "[encoded data removed]",
      "text/plain": [
       "<Figure size 432x288 with 1 Axes>"
      ]
     },
     "metadata": {},
     "output_type": "display_data"
    }
   ],
   "source": [
    "df1['A'].plot(title='Column A',legend=True, color='red')"
   ]
  },
  {
   "cell_type": "markdown",
   "metadata": {},
   "source": [
    "If we didn't want a continuous graph, we could use the `.scatter()` to see just the data points.  This works slightly differently to the `.plot()` command, in that `scatter()` is a function that takes two arguments:  the independent variable (in this case, our dataframe's index), and the dependent variable (any of the columns we want)."
   ]
  },
  {
   "cell_type": "code",
   "execution_count": 8,
   "metadata": {},
   "outputs": [
    {
     "data": {
      "image/png": "[encoded data removed]",
      "text/plain": [
       "<Figure size 432x288 with 1 Axes>"
      ]
     },
     "metadata": {},
     "output_type": "display_data"
    }
   ],
   "source": [
    "scatter(df1.index,df1['A']);"
   ]
  },
  {
   "cell_type": "markdown",
   "metadata": {},
   "source": [
    "### Types of Graphs, Uses\n",
    "\n",
    "We've seen two types of graphs so far:  scatter plots and line graphs.  For what kind of data should we use these graphs?  Here are general guidelines:\n",
    "\n",
    "1. **Line graphs** are good for visualizing data that are continuously connected in some way, e.g.: temperature changing over time.\n",
    "2. **Scatter plots** are useful for data points that are individually separate and distinct, e.g.: the house price vs square footage data we saw in Unit 1."
   ]
  },
  {
   "cell_type": "code",
   "execution_count": 9,
   "metadata": {},
   "outputs": [
    {
     "data": {
      "text/html": [
       "<div>\n",
       "<style scoped>\n",
       "    .dataframe tbody tr th:only-of-type {\n",
       "        vertical-align: middle;\n",
       "    }\n",
       "\n",
       "    .dataframe tbody tr th {\n",
       "        vertical-align: top;\n",
       "    }\n",
       "\n",
       "    .dataframe thead th {\n",
       "        text-align: right;\n",
       "    }\n",
       "</style>\n",
       "<table border=\"1\" class=\"dataframe\">\n",
       "  <thead>\n",
       "    <tr style=\"text-align: right;\">\n",
       "      <th></th>\n",
       "      <th>House Price</th>\n",
       "    </tr>\n",
       "    <tr>\n",
       "      <th>Square Footage</th>\n",
       "      <th></th>\n",
       "    </tr>\n",
       "  </thead>\n",
       "  <tbody>\n",
       "    <tr>\n",
       "      <th>1710</th>\n",
       "      <td>284</td>\n",
       "    </tr>\n",
       "    <tr>\n",
       "      <th>1737</th>\n",
       "      <td>302</td>\n",
       "    </tr>\n",
       "    <tr>\n",
       "      <th>1767</th>\n",
       "      <td>376</td>\n",
       "    </tr>\n",
       "    <tr>\n",
       "      <th>1779</th>\n",
       "      <td>372</td>\n",
       "    </tr>\n",
       "    <tr>\n",
       "      <th>1791</th>\n",
       "      <td>341</td>\n",
       "    </tr>\n",
       "  </tbody>\n",
       "</table>\n",
       "</div>"
      ],
      "text/plain": [
       "                House Price\n",
       "Square Footage             \n",
       "1710                    284\n",
       "1737                    302\n",
       "1767                    376\n",
       "1779                    372\n",
       "1791                    341"
      ]
     },
     "execution_count": 9,
     "metadata": {},
     "output_type": "execute_result"
    }
   ],
   "source": [
    "dfhp = pd.DataFrame({'House Price':[284, 302, 376, 372, 341, 385, 361, 345, 371, 317, 337, 404, 408, 367, 486, 402, \n",
    "                                    477, 475, 455, 456, 492, 515, 535, 567, 519, 580, 534, 539, 550, 618, 589, 624, \n",
    "                                    566, 630, 624, 596, 634, 639, 721, 690, 688, 751, 777, 798, 821, 781, 800, 797, 803, \n",
    "                                    898]}, index=[1710, 1737, 1767, 1779, 1791, 1810, 1819, 1825, 1869, 1896, 1963, 2047, \n",
    "                                                  2060, 2201, 2328, 2337, 2465, 2498, 2538, 2577, 2579, 2671, 2680, 2758, \n",
    "                                                  2831, 2866, 3018, 3053, 3084, 3106, 3133, 3143, 3156, 3159, 3169, 3247, \n",
    "                                                  3384, 3391, 3528, 3537, 3596, 3790, 3811, 3970, 4025, 4046, 4204, 4211, \n",
    "                                                  4274, 4410])\n",
    "dfhp.index.name = 'Square Footage'\n",
    "dfhp.head()"
   ]
  },
  {
   "cell_type": "code",
   "execution_count": 10,
   "metadata": {},
   "outputs": [
    {
     "data": {
      "image/png": "[encoded data removed]",
      "text/plain": [
       "<Figure size 432x288 with 1 Axes>"
      ]
     },
     "metadata": {},
     "output_type": "display_data"
    }
   ],
   "source": [
    "scatter(dfhp.index,dfhp['House Price']);"
   ]
  },
  {
   "cell_type": "markdown",
   "metadata": {},
   "source": [
    "We can very easily visualize the data this way, because each data point shows the values for a particular house, but the houses aren't related to each other in any sense.  It would be much more confusing to view the graph like this:"
   ]
  },
  {
   "cell_type": "code",
   "execution_count": 11,
   "metadata": {},
   "outputs": [
    {
     "data": {
      "text/plain": [
       "<matplotlib.axes._subplots.AxesSubplot at 0x121a46550>"
      ]
     },
     "execution_count": 11,
     "metadata": {},
     "output_type": "execute_result"
    },
    {
     "data": {
      "image/png": "[encoded data removed]",
      "text/plain": [
       "<Figure size 432x288 with 1 Axes>"
      ]
     },
     "metadata": {},
     "output_type": "display_data"
    }
   ],
   "source": [
    "dfhp.plot()"
   ]
  },
  {
   "cell_type": "markdown",
   "metadata": {},
   "source": [
    "It's not really clear what we're looking at there.\n",
    "\n",
    "Looking at temperature data, however, which is continually changing as time goes on:"
   ]
  },
  {
   "cell_type": "code",
   "execution_count": 12,
   "metadata": {},
   "outputs": [
    {
     "data": {
      "text/html": [
       "<div>\n",
       "<style scoped>\n",
       "    .dataframe tbody tr th:only-of-type {\n",
       "        vertical-align: middle;\n",
       "    }\n",
       "\n",
       "    .dataframe tbody tr th {\n",
       "        vertical-align: top;\n",
       "    }\n",
       "\n",
       "    .dataframe thead th {\n",
       "        text-align: right;\n",
       "    }\n",
       "</style>\n",
       "<table border=\"1\" class=\"dataframe\">\n",
       "  <thead>\n",
       "    <tr style=\"text-align: right;\">\n",
       "      <th></th>\n",
       "      <th>Temp</th>\n",
       "    </tr>\n",
       "  </thead>\n",
       "  <tbody>\n",
       "    <tr>\n",
       "      <th>2017-05-01 08:00:00</th>\n",
       "      <td>10.1</td>\n",
       "    </tr>\n",
       "    <tr>\n",
       "      <th>2017-05-01 08:15:00</th>\n",
       "      <td>9.7</td>\n",
       "    </tr>\n",
       "    <tr>\n",
       "      <th>2017-05-01 08:30:00</th>\n",
       "      <td>10.4</td>\n",
       "    </tr>\n",
       "    <tr>\n",
       "      <th>2017-05-01 08:45:00</th>\n",
       "      <td>10.4</td>\n",
       "    </tr>\n",
       "    <tr>\n",
       "      <th>2017-05-01 09:00:00</th>\n",
       "      <td>12.2</td>\n",
       "    </tr>\n",
       "  </tbody>\n",
       "</table>\n",
       "</div>"
      ],
      "text/plain": [
       "                     Temp\n",
       "2017-05-01 08:00:00  10.1\n",
       "2017-05-01 08:15:00   9.7\n",
       "2017-05-01 08:30:00  10.4\n",
       "2017-05-01 08:45:00  10.4\n",
       "2017-05-01 09:00:00  12.2"
      ]
     },
     "execution_count": 12,
     "metadata": {},
     "output_type": "execute_result"
    }
   ],
   "source": [
    "dftp = pd.DataFrame({'Temp':[10.1, 9.7, 10.4, 10.4, 12.2, 12.8, 13.3, 13.1, 13.8, 13.3, 14.6, 14.7, 14.1, 15.8, 15.8, \n",
    "                             16.2, 16.4, 16.0, 15.9, 17.9, 16.6, 17.5, 17.4, 18.2, 18.1, 17.3, 18.6, 18.7, 17.5, 17.2,\n",
    "                             17.2, 17.3, 18.2, 17.9, 18.1, 17.7, 16.9, 18.3, 17.0, 16.3, 17.4, 15.7, 15.4, 15.2, 15.7,\n",
    "                             15.7, 15.0, 14.0, 14.8]},\n",
    "                    index=pd.date_range('2017-05-01 08:00:00',periods =49,freq='0.25H'))\n",
    "dftp.head()"
   ]
  },
  {
   "cell_type": "code",
   "execution_count": 13,
   "metadata": {},
   "outputs": [
    {
     "data": {
      "image/png": "[encoded data removed]",
      "text/plain": [
       "<Figure size 432x288 with 1 Axes>"
      ]
     },
     "metadata": {},
     "output_type": "display_data"
    }
   ],
   "source": [
    "dftp.plot();"
   ]
  },
  {
   "cell_type": "markdown",
   "metadata": {},
   "source": [
    "This plot makes more sense to look at, as we can see the connections between the data points we have.\n",
    "\n",
    "There are many other kinds of graphs available in Matplotlib, such as histograms:"
   ]
  },
  {
   "cell_type": "code",
   "execution_count": 14,
   "metadata": {},
   "outputs": [
    {
     "data": {
      "image/png": "[encoded data removed]",
      "text/plain": [
       "<Figure size 432x288 with 1 Axes>"
      ]
     },
     "metadata": {},
     "output_type": "display_data"
    }
   ],
   "source": [
    "hist(dftp['Temp'],bins=20);"
   ]
  },
  {
   "cell_type": "markdown",
   "metadata": {},
   "source": [
    "This kind of graph effectively counts the number of values the data set has.  \n",
    "\n",
    "For an overview of the kinds of graphs available, visit the Matplotlib examples gallery:  https://matplotlib.org/gallery.html"
   ]
  },
  {
   "cell_type": "markdown",
   "metadata": {},
   "source": [
    "### Multiple Plots\n",
    "\n",
    "If we run three separate scatter commands, one for each of the columns, Python will automatically place them in the same graph because they all share the same index (independent variable)."
   ]
  },
  {
   "cell_type": "code",
   "execution_count": 15,
   "metadata": {},
   "outputs": [
    {
     "data": {
      "image/png": "[encoded data removed]",
      "text/plain": [
       "<Figure size 432x288 with 1 Axes>"
      ]
     },
     "metadata": {},
     "output_type": "display_data"
    }
   ],
   "source": [
    "scatter(df1.index,df1['A']);\n",
    "scatter(df1.index,df1['B']);\n",
    "scatter(df1.index,df1['C']);"
   ]
  },
  {
   "cell_type": "markdown",
   "metadata": {},
   "source": [
    "Similarly, we can get equivalent plotting with the `.plot()` command by either specifying a list of columns to use, or using sequential plot commands:"
   ]
  },
  {
   "cell_type": "code",
   "execution_count": 16,
   "metadata": {},
   "outputs": [
    {
     "data": {
      "image/png": "[encoded data removed]",
      "text/plain": [
       "<Figure size 432x288 with 1 Axes>"
      ]
     },
     "metadata": {},
     "output_type": "display_data"
    }
   ],
   "source": [
    "df1[['A','C']].plot();"
   ]
  },
  {
   "cell_type": "code",
   "execution_count": 17,
   "metadata": {},
   "outputs": [
    {
     "data": {
      "image/png": "[encoded data removed]",
      "text/plain": [
       "<Figure size 432x288 with 1 Axes>"
      ]
     },
     "metadata": {},
     "output_type": "display_data"
    }
   ],
   "source": [
    "df1['A'].plot();\n",
    "df1['C'].plot();"
   ]
  },
  {
   "cell_type": "markdown",
   "metadata": {},
   "source": [
    "If we had two different dataframes (distinct indices), however, and called sequential plots, we would get:"
   ]
  },
  {
   "cell_type": "code",
   "execution_count": 18,
   "metadata": {},
   "outputs": [],
   "source": [
    "df = pd.DataFrame({'X':np.random.randint(0,100,30)},index=pd.date_range('2016-01-01',periods=30,freq='h'))"
   ]
  },
  {
   "cell_type": "code",
   "execution_count": 19,
   "metadata": {},
   "outputs": [
    {
     "data": {
      "text/plain": [
       "<matplotlib.axes._subplots.AxesSubplot at 0x121ecac18>"
      ]
     },
     "execution_count": 19,
     "metadata": {},
     "output_type": "execute_result"
    },
    {
     "data": {
      "image/png": "[encoded data removed]",
      "text/plain": [
       "<Figure size 432x288 with 1 Axes>"
      ]
     },
     "metadata": {},
     "output_type": "display_data"
    },
    {
     "data": {
      "image/png": "[encoded data removed]",
      "text/plain": [
       "<Figure size 432x288 with 1 Axes>"
      ]
     },
     "metadata": {},
     "output_type": "display_data"
    }
   ],
   "source": [
    "df1['A'].plot(color='blue')\n",
    "df.plot(color='green')"
   ]
  },
  {
   "cell_type": "markdown",
   "metadata": {},
   "source": [
    "### More Advanced Plots\n",
    "\n",
    "While the methods of plotting we have seen so far are very handy for getting a quick insight into our data sets, Matplotlib allows us much finer control over graphing.  The code becomes a little more complicated, and has the following format:\n",
    "\n",
    "`fig = plt.figure()  # declare a figure to a variable name\n",
    "plt.plot(x, y1, label='name1', color='colorname or hex code')\n",
    "plt.plot(x, y2, label='name2', color='colorname or hex code')  # repeat for as many things as you are plotting\n",
    "plt.xlabel('label for x', size=number)\n",
    "plt.ylabel('label for y', size=number)\n",
    "plt.legend()\n",
    "plt.grid()  # If this is included, a grid will be placed on your graph\n",
    "plt.title('Title')\n",
    "plt.show()`\n",
    "\n",
    "Let's use our dataframe `d1` to create a plot:  we will label the y-axis 'Price', the x-axis 'Days After First Trade', and the title of the plot will be 'Stock Prices'.  We'll set the grid to `True` to show a grid on the graph."
   ]
  },
  {
   "cell_type": "code",
   "execution_count": null,
   "metadata": {
    "collapsed": true
   },
   "outputs": [],
   "source": [
    "fig = plt.figure()\n",
    "plt.plot(df1.index,df1['A'],label='Stock A', color='red')\n",
    "plt.plot(df1.index,df1['B'],label='Stock B', color='green')\n",
    "plt.plot(df1.index,df1['C'],label='Stock C', color='blue')\n",
    "plt.xlabel('Days After First Trade', size=10)\n",
    "plt.ylabel('Price',size=12)\n",
    "plt.legend()\n",
    "plt.title('Stock Prices',size=18)\n",
    "plt.grid(b=True)\n",
    "plt.show()"
   ]
  },
  {
   "cell_type": "markdown",
   "metadata": {},
   "source": [
    "That looks much fancier.  We notice that there are some gaps on either end of the graph; we can fix this by telling Matplotlib exactly what range to graph from, using the `plt.xlim()` command.  We'll tell it to graph from 0 to 49, because those are the limits of our data."
   ]
  },
  {
   "cell_type": "code",
   "execution_count": null,
   "metadata": {
    "collapsed": true
   },
   "outputs": [],
   "source": [
    "fig = plt.figure()\n",
    "plt.plot(df1.index,df1['A'],label='Stock A', color='red')\n",
    "plt.plot(df1.index,df1['B'],label='Stock B', color='green')\n",
    "plt.plot(df1.index,df1['C'],label='Stock C', color='blue')\n",
    "plt.xlabel('Days After First Trade', size=10)\n",
    "plt.ylabel('Price',size=12)\n",
    "plt.legend()\n",
    "plt.title('Stock Prices',size=18)\n",
    "plt.grid()\n",
    "plt.xlim(0,49)\n",
    "plt.show()"
   ]
  },
  {
   "cell_type": "markdown",
   "metadata": {},
   "source": [
    "Usually when we graph things, we like to clearly label the x-axis along `x=0`.  We can do that by telling Matplotlib to plot a black line whose x-value is the `df1.index`, and the y-value is `0*df1.index`."
   ]
  },
  {
   "cell_type": "code",
   "execution_count": null,
   "metadata": {
    "collapsed": true
   },
   "outputs": [],
   "source": [
    "fig = plt.figure()\n",
    "plt.plot(df1.index,df1['A'],label='Stock A', color='red')\n",
    "plt.plot(df1.index,df1['B'],label='Stock B', color='green')\n",
    "plt.plot(df1.index,df1['C'],label='Stock C', color='blue')\n",
    "plt.plot(df1.index,0*df1.index,color='black')\n",
    "plt.xlabel('Days After First Trade', size=10)\n",
    "plt.ylabel('Price',size=12)\n",
    "plt.legend()\n",
    "plt.title('Stock Prices',size=18)\n",
    "plt.grid()\n",
    "plt.xlim(0,49)\n",
    "plt.show()"
   ]
  },
  {
   "cell_type": "markdown",
   "metadata": {},
   "source": [
    "We can also control the style in which these lines are graphed.  As an additional argument between y-axis and the label, we can specify the `linestyle`.  The four choices are `'-', '--', '-.', `and` ':'` which are solid, dashed, dash-dot, and dotted lines, respectively.  Let's change both the linestyle and the linewidth of each of the `df1` columns:"
   ]
  },
  {
   "cell_type": "code",
   "execution_count": null,
   "metadata": {
    "collapsed": true
   },
   "outputs": [],
   "source": [
    "fig = plt.figure()\n",
    "plt.plot(df1.index,df1['A'],':',label='Stock A', color='red',linewidth=1.4)\n",
    "plt.plot(df1.index,df1['B'],'--',label='Stock B', color='green',linewidth=0.5)\n",
    "plt.plot(df1.index,df1['C'],'-.',label='Stock C', color='blue',linewidth=2)\n",
    "plt.plot(df1.index,0*df1.index,color='black')\n",
    "plt.xlabel('Days After First Trade', size=10)\n",
    "plt.ylabel('Price',size=12)\n",
    "plt.legend()\n",
    "plt.title('Stock Prices',size=18)\n",
    "plt.grid(b=True)\n",
    "plt.xlim(0,49)\n",
    "plt.show()"
   ]
  },
  {
   "cell_type": "markdown",
   "metadata": {},
   "source": [
    "### Date Formatting\n",
    "\n",
    "Let us read in the `timeseries_1.csv` data set again, and do some date formatting:"
   ]
  },
  {
   "cell_type": "code",
   "execution_count": null,
   "metadata": {
    "collapsed": true
   },
   "outputs": [],
   "source": [
    "df2 = pd.read_csv('timeseries_1.csv',index_col=0,parse_dates=True)\n",
    "df2.head()"
   ]
  },
  {
   "cell_type": "markdown",
   "metadata": {},
   "source": [
    "Let's plot the `high` and `low` columns:"
   ]
  },
  {
   "cell_type": "code",
   "execution_count": null,
   "metadata": {
    "collapsed": true
   },
   "outputs": [],
   "source": [
    "fig = plt.figure()\n",
    "plt.plot(df2.index,df2['high'],label='High', color='red')\n",
    "plt.plot(df2.index,df2['low'],label='Low', color='blue')\n",
    "plt.xlabel('Time', size=15)\n",
    "plt.ylabel('Price',size=15)\n",
    "plt.legend()\n",
    "plt.xlim(df2.index[0],df2.index[-1])\n",
    "plt.title('Futures Prices',size=18)\n",
    "plt.grid()\n",
    "plt.show()"
   ]
  },
  {
   "cell_type": "markdown",
   "metadata": {},
   "source": [
    "Matplotlib will try to condense the information on the axis labels to remove anything unnecessary.  In our case, since all of the prices happen on the same day, it will just display the time.  It's often easier to read datetimes as axis labels if they're tilted slightly; this can be accomplished using the command `fig.autofmt_xdate()`, which will auto-format datetimes that appear as x-axis labels."
   ]
  },
  {
   "cell_type": "code",
   "execution_count": null,
   "metadata": {
    "collapsed": true
   },
   "outputs": [],
   "source": [
    "fig = plt.figure()\n",
    "plt.plot(df2.index,df2['high'],label='High', color='red')\n",
    "plt.plot(df2.index,df2['low'],label='Low', color='blue')\n",
    "plt.xlabel('Time', size=15)\n",
    "plt.ylabel('Price',size=15)\n",
    "plt.legend()\n",
    "plt.title('Futures Prices',size=18)\n",
    "plt.grid()\n",
    "fig.autofmt_xdate()\n",
    "plt.show()"
   ]
  },
  {
   "cell_type": "markdown",
   "metadata": {},
   "source": [
    "As another example using dates instead of times:"
   ]
  },
  {
   "cell_type": "code",
   "execution_count": null,
   "metadata": {
    "collapsed": true
   },
   "outputs": [],
   "source": [
    "df3 = pd.DataFrame({'Temperature':np.random.randint(10,32,30)},index=pd.date_range('2016-06-01',periods=30,freq='12H'))"
   ]
  },
  {
   "cell_type": "code",
   "execution_count": null,
   "metadata": {
    "collapsed": true
   },
   "outputs": [],
   "source": [
    "fig = plt.figure()\n",
    "plt.plot(df3.index,df3['Temperature'],label='Temp')\n",
    "plt.xlabel('Time', size=15)\n",
    "plt.ylabel('Temperature',size=15)\n",
    "plt.legend()\n",
    "plt.title('Temperatures on a 12 Hour Scale',size=18)\n",
    "plt.grid()\n",
    "plt.tick_params(axis='x', labelsize=10)\n",
    "plt.xlim(df3.index[0],df3.index[-1])\n",
    "fig.autofmt_xdate()\n",
    "plt.show()"
   ]
  },
  {
   "cell_type": "markdown",
   "metadata": {},
   "source": [
    "Compare it to leaving the dates horizontal, with a larger font-sized tick label:"
   ]
  },
  {
   "cell_type": "code",
   "execution_count": null,
   "metadata": {
    "collapsed": true
   },
   "outputs": [],
   "source": [
    "fig = plt.figure()\n",
    "plt.plot(df3.index,df3['Temperature'],label='Temp')\n",
    "plt.xlabel('Time', size=15)\n",
    "plt.ylabel('Temperature',size=15)\n",
    "plt.legend()\n",
    "plt.title('Temperatures on a 12 Hour Scale',size=18)\n",
    "plt.grid()\n",
    "plt.tick_params(axis='x', labelsize=10)\n",
    "plt.xlim(df3.index[0],df3.index[-1])\n",
    "plt.tick_params(axis='x', labelsize=15)\n",
    "#fig.autofmt_xdate()\n",
    "plt.show()"
   ]
  },
  {
   "cell_type": "markdown",
   "metadata": {},
   "source": [
    "### Markers\n",
    "\n",
    "For broken-line graphs, like we've been seeing, we can emphasize our actual data points by placing markers at their locations.  A few common markers are (`\".\"`,point),(`\",\"`,pixel),(`\"o\"`,circle), and (`\"D\"`,diamond).  Alternatively, we can specify the linestyle as `.-` which gives a solid line graph with dots:"
   ]
  },
  {
   "cell_type": "code",
   "execution_count": null,
   "metadata": {
    "collapsed": true
   },
   "outputs": [],
   "source": [
    "fig = plt.figure()\n",
    "plt.plot(df1.index,df1['A'],'.-',label='Stock A', color='red',linewidth=1.4)\n",
    "plt.plot(df1.index,df1['B'],label='Stock B',marker='o' ,color='green',linewidth=0.5)\n",
    "plt.plot(df1.index,df1['C'],label='Stock C',marker='D', color='blue',linewidth=2)\n",
    "plt.plot(df1.index,0*df1.index,color='black')\n",
    "plt.xlabel('Days After First Trade', size=10)\n",
    "plt.ylabel('Price',size=12)\n",
    "plt.legend()\n",
    "plt.title('Stock Prices',size=18)\n",
    "plt.grid(b=True)\n",
    "plt.xlim(0,49)\n",
    "plt.show()"
   ]
  },
  {
   "cell_type": "markdown",
   "metadata": {},
   "source": [
    "For a list of markers, please see:\n",
    "https://matplotlib.org/api/markers_api.html"
   ]
  },
  {
   "cell_type": "markdown",
   "metadata": {},
   "source": [
    "### Graphing Functions\n",
    "\n",
    "The examples we have looked at involve us graphing discrete data sets.  How would we try to graph a continuous function, like $\\sin(x)$, or $e^{-x^2/2}$?  The answer is we have to create a series of data points for Matplotlib to use as the x-axis, fine enough so that when it interpolates between the points with lines, it's not noticeable to the eye.\n",
    "\n",
    "To accomplish this, we're going to use the `np.arange()` function (note:  it's not \"arrange\", it's a range).  This function will produce a sequence of evenly space points, with syntax `np.arange(start,end,step)`."
   ]
  },
  {
   "cell_type": "code",
   "execution_count": null,
   "metadata": {
    "collapsed": true
   },
   "outputs": [],
   "source": [
    "np.arange(0,10,0.5)"
   ]
  },
  {
   "cell_type": "code",
   "execution_count": null,
   "metadata": {
    "collapsed": true
   },
   "outputs": [],
   "source": [
    "t = np.arange(0.0, 1.0+0.01, 0.01)\n",
    "s = np.sin(2*np.pi * t)\n",
    "plt.plot(t, s)\n",
    "plt.show()"
   ]
  },
  {
   "cell_type": "markdown",
   "metadata": {},
   "source": [
    "What would happen if we had changed the step size from 0.01 to 0.1?"
   ]
  },
  {
   "cell_type": "code",
   "execution_count": null,
   "metadata": {
    "collapsed": true
   },
   "outputs": [],
   "source": []
  },
  {
   "cell_type": "markdown",
   "metadata": {},
   "source": [
    "We could also make it look more like a graph appearing in a math textbook in the same way we've adjusted other graphs:"
   ]
  },
  {
   "cell_type": "code",
   "execution_count": null,
   "metadata": {
    "collapsed": true
   },
   "outputs": [],
   "source": [
    "t = np.arange(0.0, 1.0+0.01, 0.01)\n",
    "s = np.sin(2*np.pi * t)\n",
    "plt.plot(t, s)\n",
    "plt.plot(t,0*t,color='black')\n",
    "plt.xlim(0,1)\n",
    "plt.grid()\n",
    "plt.show()"
   ]
  },
  {
   "cell_type": "markdown",
   "metadata": {},
   "source": [
    "Keeping the step to a hundredth of the total range works well, as a rule of thumb, to keep the graph looking smooth:"
   ]
  },
  {
   "cell_type": "code",
   "execution_count": null,
   "metadata": {
    "collapsed": true
   },
   "outputs": [],
   "source": [
    "t = np.arange(1.0, 100.0+1, 1)\n",
    "l = np.log(t/2)\n",
    "plt.plot(np.log(t))\n",
    "plt.show()"
   ]
  },
  {
   "cell_type": "markdown",
   "metadata": {},
   "source": [
    "Compare to the step size a tenth of the one above:"
   ]
  },
  {
   "cell_type": "code",
   "execution_count": null,
   "metadata": {
    "collapsed": true
   },
   "outputs": [],
   "source": [
    "t = np.arange(1.0, 100.0+0.1, 0.1)\n",
    "l = np.log(t/2)\n",
    "plt.plot(np.log(t))\n",
    "plt.show()"
   ]
  },
  {
   "cell_type": "markdown",
   "metadata": {},
   "source": [
    "These tools will allow us to graph both data sets and mathematical functions on the same graph, which will be a good way to visually inspect any models we create."
   ]
  },
  {
   "cell_type": "markdown",
   "metadata": {},
   "source": [
    "### Outputting Files\n",
    "\n",
    "We can write any graph we make to a file, for use in other aspects of projects.  To accomplish this, replace `plt.show()` with the command `plt.savefig('filepath')`.  One thing to note is the default size of the picture file that is generated is fairly small, but we can control it by setting the dpi.  Let's compare the default with an adjusted output using a previous example:"
   ]
  },
  {
   "cell_type": "code",
   "execution_count": null,
   "metadata": {
    "collapsed": true
   },
   "outputs": [],
   "source": [
    "fig = plt.figure()\n",
    "plt.plot(df3.index,df3['Temperature'],label='Temp')\n",
    "plt.xlabel('Time', size=15)\n",
    "plt.ylabel('Temperature',size=15)\n",
    "plt.legend()\n",
    "plt.title('Temperatures on a 12 Hour Scale',size=18)\n",
    "plt.grid()\n",
    "plt.tick_params(axis='x', labelsize=10)\n",
    "plt.xlim(df3.index[0],df3.index[-1])\n",
    "plt.tick_params(axis='x', labelsize=15)\n",
    "fig.autofmt_xdate()\n",
    "plt.savefig('c:\\\\users\\\\Patrick\\\\default_dpi.png')\n",
    "\n",
    "my_dpi=96\n",
    "plt.savefig('c:\\\\users\\\\Patrick\\\\adjusted_dpi.png',dpi=my_dpi*2)\n"
   ]
  },
  {
   "cell_type": "markdown",
   "metadata": {},
   "source": [
    "The resolution of the default is 864x720, whereas the adjusted is 2304x1920."
   ]
  },
  {
   "cell_type": "markdown",
   "metadata": {},
   "source": [
    "### Subplots\n",
    "\n",
    "One nice feature of Matplotlib is the ability to output multiple graphs in the same image.  This is accomplished using  `gridspec` to create subplots:  we first declare the size of the subplots with `GridSpec(rows,columns)`, and then we plot our individual plots using `plt.subplot2grid()` with the following syntax:\n",
    "\n",
    "`GridSpec(number of rows, number of columns)`<br>\n",
    "`plt.subplot2grid((grid rows, grid columns), (plot row position, plot column position))`<br>\n",
    "`plt.plot(x,y)`\n",
    "\n",
    "We'll plot both the high and the low from `df2`, with one stacked on top of the other; this means we have 2 rows, and 1 column, and the positions will be `(0,0)` and `(1,0)` (since we count from 0):"
   ]
  },
  {
   "cell_type": "code",
   "execution_count": null,
   "metadata": {
    "collapsed": true
   },
   "outputs": [],
   "source": [
    "import matplotlib.gridspec as gridspec\n",
    "\n",
    "fig = plt.figure()\n",
    "# set up subplot grid; how many rows and columns\n",
    "gridspec.GridSpec(2,1)\n",
    "\n",
    "plt.subplot2grid((2,1), (0,0))  # (2,1) = total plot size, (0,0) = coordinates for *this* plot\n",
    "plt.plot(df2.index,df2['high'],label='High', color='red')\n",
    "plt.xlabel('Time', size=12)\n",
    "plt.ylabel('Price',size=12)\n",
    "plt.legend()\n",
    "plt.xlim(df2.index[0],df2.index[-1])\n",
    "plt.title('Futures Prices',size=18)\n",
    "plt.grid()\n",
    "fig.autofmt_xdate()\n",
    "\n",
    "plt.subplot2grid((2,1), (1,0))\n",
    "plt.plot(df2.index,df2['low'],label='Low', color='blue')\n",
    "plt.xlabel('Time', size=12)\n",
    "plt.ylabel('Price',size=12)\n",
    "plt.legend()\n",
    "plt.xlim(df2.index[0],df2.index[-1])\n",
    "plt.grid()\n",
    "fig.autofmt_xdate()\n",
    "\n",
    "plt.show()"
   ]
  },
  {
   "cell_type": "markdown",
   "metadata": {},
   "source": [
    "We can even make more complicated arrangements by stretching graphs over multiple columns.  We'll make a subplot of the volume, open, and close prices; the volume will by 2x2 rows and columns, and each of the open and close will be 1x1 underneath.  We stretch by<br> `plt.subplot2grid((r1,c1),(px,py),colspan=n,rowspan=m)`:"
   ]
  },
  {
   "cell_type": "code",
   "execution_count": null,
   "metadata": {
    "collapsed": true
   },
   "outputs": [],
   "source": [
    "gridspec.GridSpec(3,2)\n",
    "\n",
    "# Three rows, two columns.  The volume will be at position (0,0) and will span 2 rows and 2 columns.  The open and close \n",
    "# will be at positions (2,0) and (2,1), and will be normal sized.\n",
    "plt.subplot2grid((3,2), (0,0),colspan=2,rowspan=2)\n",
    "plt.plot(df2.index,df2['volume'],label='Vol', color='green')\n",
    "plt.xlabel('Time', size=12)\n",
    "plt.ylabel('Qty',size=12)\n",
    "plt.legend()\n",
    "plt.xlim(df2.index[0],df2.index[-1])\n",
    "plt.title('Futures Prices',size=18)\n",
    "plt.grid()\n",
    "\n",
    "plt.subplot2grid((3,2), (2,0))\n",
    "plt.plot(df2.index,df2['open'],label='Open', color='red')\n",
    "plt.xlabel('Time', size=12)\n",
    "plt.ylabel('Price',size=12)\n",
    "plt.legend()\n",
    "plt.xlim(df2.index[0],df2.index[-1])\n",
    "plt.grid()\n",
    "fig.autofmt_xdate()\n",
    "\n",
    "plt.subplot2grid((3,2), (2,1))\n",
    "plt.plot(df2.index,df2['close'],label='Close', color='blue')\n",
    "plt.xlabel('Time', size=12)\n",
    "plt.ylabel('Price',size=12)\n",
    "plt.legend()\n",
    "plt.xlim(df2.index[0],df2.index[-1])\n",
    "plt.grid()\n",
    "fig.autofmt_xdate()\n",
    "\n",
    "plt.show()"
   ]
  },
  {
   "cell_type": "markdown",
   "metadata": {},
   "source": [
    "How would we plot these three using 2 rows and 2 columns, stretching the volume vertically, and having the open & close unstretched and vertically stacked to the right of the volume?"
   ]
  },
  {
   "cell_type": "code",
   "execution_count": null,
   "metadata": {
    "collapsed": true
   },
   "outputs": [],
   "source": []
  },
  {
   "cell_type": "markdown",
   "metadata": {},
   "source": [
    "### Basic 3d Plotting\n",
    "\n",
    "Matplotlib has the capability to display three-dimensional plots with relatively easy syntax.  We'll look at a few examples with the goal to setting up multiple-linear regression visualizations in the first modelling unit.  The first thing we need to do is import the 3d packages from matplotlib."
   ]
  },
  {
   "cell_type": "code",
   "execution_count": null,
   "metadata": {
    "collapsed": true
   },
   "outputs": [],
   "source": [
    "import mpl_toolkits.mplot3d as m3d"
   ]
  },
  {
   "cell_type": "markdown",
   "metadata": {},
   "source": [
    "Just as we defined a variable name, like `fig`, to be a `plt.figure()` object and then specified the parameters of the graph we wanted, we define a variable name to be a `m3d.Axes3D(plt.figure())` object for 3d plots.  One type of plot we could do is a scatter plot, wherein we specify the $x, y,$ and $z$ coordinates with numpy/pandas objects.\n",
    "\n",
    "Load the data from the `3d_scatter.csv`."
   ]
  },
  {
   "cell_type": "code",
   "execution_count": null,
   "metadata": {
    "collapsed": true
   },
   "outputs": [],
   "source": [
    "df3d = pd.read_csv('3d_scatter.csv')"
   ]
  },
  {
   "cell_type": "markdown",
   "metadata": {},
   "source": [
    "Looking at the data, we see it's arranged as $x,y,z$ coordinates.  We can feed the columns directly into the plotting function."
   ]
  },
  {
   "cell_type": "code",
   "execution_count": null,
   "metadata": {
    "collapsed": true
   },
   "outputs": [],
   "source": [
    "df3d.head()"
   ]
  },
  {
   "cell_type": "code",
   "execution_count": null,
   "metadata": {
    "collapsed": true
   },
   "outputs": [],
   "source": [
    "fig3d = m3d.Axes3D(plt.figure())\n",
    "fig3d.scatter3D(df3d['x'],df3d['y'],df3d['z'], color='red')\n",
    "plt.show()"
   ]
  },
  {
   "cell_type": "markdown",
   "metadata": {},
   "source": [
    "We can rotate the view by using `.view_init(elevation,azimuth)`, with the values given in degrees."
   ]
  },
  {
   "cell_type": "code",
   "execution_count": null,
   "metadata": {
    "collapsed": true
   },
   "outputs": [],
   "source": [
    "fig3d = m3d.Axes3D(plt.figure())\n",
    "fig3d.scatter3D(df3d['x'],df3d['y'],df3d['z'], color='red')\n",
    "fig3d.view_init(10, 15)\n",
    "plt.show()"
   ]
  },
  {
   "cell_type": "markdown",
   "metadata": {},
   "source": [
    "We can create datasets directly, and then plot them.  Using the `arange()` function, let's create a set of data for the $x$ coordiate:"
   ]
  },
  {
   "cell_type": "code",
   "execution_count": null,
   "metadata": {
    "collapsed": true
   },
   "outputs": [],
   "source": [
    "X = np.arange(-4,4,0.005)"
   ]
  },
  {
   "cell_type": "markdown",
   "metadata": {},
   "source": [
    "We'll define $y$ to be a function of $x$, and then $z$ to be a function of them both.  For example:"
   ]
  },
  {
   "cell_type": "code",
   "execution_count": null,
   "metadata": {
    "collapsed": true
   },
   "outputs": [],
   "source": [
    "Y = X**2-1\n",
    "Z = np.sin(X+Y)"
   ]
  },
  {
   "cell_type": "code",
   "execution_count": null,
   "metadata": {
    "collapsed": true
   },
   "outputs": [],
   "source": [
    "fig3d = m3d.Axes3D(plt.figure())\n",
    "fig3d.scatter3D(X,Y,Z, color='teal')\n",
    "plt.show()"
   ]
  },
  {
   "cell_type": "markdown",
   "metadata": {},
   "source": [
    "Another interesting thing can do is create a wireframe surface.  This is accomplished by created a *meshgrid* that weaves $x$ and $y$ coordinates together in a way that matplotlib can interpret as the $xy$-plane, so that the $z$ coordinates can be defined for any point in the $xy$ ranges we give it.  The syntax is `np.meshgrid(x-values,y-values)` (numpy objects, such as `arange`, etc.), and it returns two sets of values:"
   ]
  },
  {
   "cell_type": "code",
   "execution_count": null,
   "metadata": {
    "collapsed": true
   },
   "outputs": [],
   "source": [
    "x = np.arange(0,5,1)\n",
    "y = np.arange(-2,2,1)\n",
    "np.meshgrid(x, y)"
   ]
  },
  {
   "cell_type": "markdown",
   "metadata": {},
   "source": [
    "Recalling that the equation of a plane in $\\mathbb{R}^3$ is given by $z=ax+by+c$ for real number $a,b,c$, we can create a wireframe plane using `plot_wireframe(x,y,z)`.  We `meshgrid` some $x,y$ coordinates, and then define $z= x+1.5y+2$:"
   ]
  },
  {
   "cell_type": "code",
   "execution_count": null,
   "metadata": {
    "collapsed": true
   },
   "outputs": [],
   "source": [
    "x = np.arange(-5,5,0.1)\n",
    "y = np.arange(-5,5,0.1)\n",
    "xx, yy = np.meshgrid(x, y)\n",
    "Z = xx + 1.5*yy + 2\n",
    "figplane = m3d.Axes3D(plt.figure())\n",
    "figplane.plot_wireframe(xx, yy, Z, rstride=10, cstride=10);\n",
    "plt.show();"
   ]
  },
  {
   "cell_type": "markdown",
   "metadata": {},
   "source": [
    "The rstride and cstride control the array row stride step size and array column stride step size respectively.  They default to 1, and that would give us the following:"
   ]
  },
  {
   "cell_type": "code",
   "execution_count": null,
   "metadata": {
    "collapsed": true
   },
   "outputs": [],
   "source": [
    "figplane = m3d.Axes3D(plt.figure())\n",
    "figplane.plot_wireframe(xx, yy, Z);\n",
    "plt.show();"
   ]
  },
  {
   "cell_type": "markdown",
   "metadata": {},
   "source": [
    "### More Matplotlib\n",
    "\n",
    "What we've seen so far only scratches the surface of what Matplotlib can accomplish.  Here are two examples from their gallery that display some of the possibilities:"
   ]
  },
  {
   "cell_type": "code",
   "execution_count": null,
   "metadata": {
    "collapsed": true
   },
   "outputs": [],
   "source": [
    "# radar green, solid grid lines\n",
    "rc('grid', color='#316931', linewidth=1, linestyle='-')\n",
    "rc('xtick', labelsize=15)\n",
    "rc('ytick', labelsize=15)\n",
    "\n",
    "# force square figure and square axes looks better for polar\n",
    "fig = figure(figsize=(8, 8))\n",
    "ax = fig.add_axes([0.1, 0.1, 0.8, 0.8],\n",
    "                  projection='polar', facecolor='#d5de9c')\n",
    "\n",
    "r = np.arange(0, 3.0, 0.01)\n",
    "theta = 2*np.pi*r\n",
    "ax.plot(theta, r, color='#ee8d18', lw=3, label='a line')\n",
    "ax.plot(0.5*theta, r, color='blue', ls='--', lw=3, label='another line')\n",
    "ax.legend()\n",
    "\n",
    "show()"
   ]
  },
  {
   "cell_type": "markdown",
   "metadata": {},
   "source": [
    "This is an example of a polar-coordinate plot; instead of specifying a point in space by its $(x,y)$ coordinate, we can instead specify it by $(r,\\theta)$, where $r$ is the (Euclidean) distance from the origin $(0,0)$ to the point and $\\theta$ is the angle from the $0^o$ line to the point.  Polar coordinates are often used in navigation, as well as for more theoretical objects like complex numbers."
   ]
  },
  {
   "cell_type": "code",
   "execution_count": null,
   "metadata": {
    "collapsed": true
   },
   "outputs": [],
   "source": [
    "def mandelbrot_set(xmin, xmax, ymin, ymax, xn, yn, maxiter, horizon=2.0):\n",
    "    X = np.linspace(xmin, xmax, xn, dtype=np.float32)\n",
    "    Y = np.linspace(ymin, ymax, yn, dtype=np.float32)\n",
    "    C = X + Y[:, None]*1j\n",
    "    N = np.zeros(C.shape, dtype=int)\n",
    "    Z = np.zeros(C.shape, np.complex64)\n",
    "    for n in range(maxiter):\n",
    "        I = np.less(abs(Z), horizon)\n",
    "        N[I] = n\n",
    "        Z[I] = Z[I]**2 + C[I]\n",
    "    N[N == maxiter-1] = 0\n",
    "    return Z, N\n",
    "\n",
    "\n",
    "\n",
    "import time\n",
    "import matplotlib\n",
    "from matplotlib import colors\n",
    "import matplotlib.pyplot as plt\n",
    "\n",
    "xmin, xmax, xn = -2.25, +0.75, 3000/2\n",
    "ymin, ymax, yn = -1.25, +1.25, 2500/2\n",
    "maxiter = 200\n",
    "horizon = 2.0 ** 40\n",
    "log_horizon = np.log(np.log(horizon))/np.log(2)\n",
    "Z, N = mandelbrot_set(xmin, xmax, ymin, ymax, xn, yn, maxiter, horizon)\n",
    "\n",
    "# Normalized recount as explained in:\n",
    "# https://linas.org/art-gallery/escape/smooth.html\n",
    "# https://www.ibm.com/developerworks/community/blogs/jfp/entry/My_Christmas_Gift\n",
    "\n",
    "# This line will generate warnings for null values but it is faster to\n",
    "# process them afterwards using the nan_to_num\n",
    "with np.errstate(invalid='ignore'):\n",
    "    M = np.nan_to_num(N + 1 -\n",
    "                      np.log(np.log(abs(Z)))/np.log(2) +\n",
    "                      log_horizon)\n",
    "\n",
    "dpi = 72\n",
    "width = 10\n",
    "height = 10*yn/xn\n",
    "fig = plt.figure(figsize=(width, height), dpi=dpi)\n",
    "ax = fig.add_axes([0.0, 0.0, 1.0, 1.0], frameon=False, aspect=1)\n",
    "\n",
    "# Shaded rendering\n",
    "light = colors.LightSource(azdeg=315, altdeg=10)\n",
    "M = light.shade(M, cmap=plt.cm.hot, vert_exag=1.5,\n",
    "                norm=colors.PowerNorm(0.3), blend_mode='hsv')\n",
    "plt.imshow(M, extent=[xmin, xmax, ymin, ymax], interpolation=\"bicubic\")\n",
    "ax.set_xticks([])\n",
    "ax.set_yticks([])\n",
    "\n",
    "plt.show()"
   ]
  },
  {
   "cell_type": "markdown",
   "metadata": {},
   "source": [
    "The graph above is of the *Mandelbrot set*, an example of a fractal.  Fractal objects exhibit repeating patterns as you \"zoom in\" on them.  Fractals exist in nature as well:\n",
    " <img src=\"http://i.imgur.com/Rtqdatv.jpg\",width=500,height=500>\n"
   ]
  },
  {
   "cell_type": "markdown",
   "metadata": {},
   "source": [
    "Matplotlib has very capable tools for handling other kinds of three-dimensional plots.  Surface plots are very handy for visualizing *cost functions* $f:\\mathbb{R}^2\\to\\mathbb{R}$, which we will talk about briefly in unit 10.  We won't be learning this in-depth, but will present one of the Matplotlib 3d examples here to show off its capabilities:"
   ]
  },
  {
   "cell_type": "code",
   "execution_count": null,
   "metadata": {
    "collapsed": true
   },
   "outputs": [],
   "source": [
    "from mpl_toolkits.mplot3d import Axes3D\n",
    "from matplotlib import cm\n",
    "\n",
    "n_angles = 36\n",
    "n_radii = 8\n",
    "\n",
    "# An array of radii\n",
    "# Does not include radius r=0, this is to eliminate duplicate points\n",
    "radii = np.linspace(0.125, 1.0, n_radii)\n",
    "\n",
    "# An array of angles\n",
    "angles = np.linspace(0, 2*np.pi, n_angles, endpoint=False)\n",
    "\n",
    "# Repeat all angles for each radius\n",
    "angles = np.repeat(angles[..., np.newaxis], n_radii, axis=1)\n",
    "\n",
    "# Convert polar (radii, angles) coords to cartesian (x, y) coords\n",
    "# (0, 0) is added here. There are no duplicate points in the (x, y) plane\n",
    "x = np.append(0, (radii*np.cos(angles)).flatten())\n",
    "y = np.append(0, (radii*np.sin(angles)).flatten())\n",
    "\n",
    "# Pringle surface\n",
    "z = np.sin(-x*y)\n",
    "\n",
    "fig = plt.figure()\n",
    "ax = fig.gca(projection='3d')\n",
    "\n",
    "ax.plot_trisurf(x, y, z, cmap=cm.jet, linewidth=0.2)\n",
    "\n",
    "plt.show()"
   ]
  },
  {
   "cell_type": "markdown",
   "metadata": {},
   "source": [
    "## Bokeh\n",
    "\n",
    "Most of the plotting we will do in this course will be with Matplotlib, but we will have a short look at Bokeh with an aim to easily creating interactive plots.  This graphing package comes with many tools for interactivity, including zooming, selecting, panning, and more.  This will let us get a \"closer look\" at the data we're graphing."
   ]
  },
  {
   "cell_type": "code",
   "execution_count": null,
   "metadata": {
    "collapsed": true
   },
   "outputs": [],
   "source": [
    "from bokeh.plotting import figure, show, output_file\n",
    "from bokeh.io import output_notebook\n",
    "from bokeh.models import DatetimeTickFormatter"
   ]
  },
  {
   "cell_type": "code",
   "execution_count": null,
   "metadata": {
    "collapsed": true
   },
   "outputs": [],
   "source": [
    "output_notebook()"
   ]
  },
  {
   "cell_type": "markdown",
   "metadata": {},
   "source": [
    "The general syntax for a Bokeh plot is as follows:\n",
    "1. Define the `TOOLS` you want (e.g.:pan, wheel_zoom, etc.).\n",
    "2. Declare a variable name for the `figure()`, like we did with `plt.figure()`.\n",
    "3. Feed `figure()` arguments for your graph, such as `title`, `plot_width` or `height`, and `tools=TOOLS`.\n",
    "4. Define the `xaxis` and `yaxis` `.axis_labels`.\n",
    "5. Decide what kind of plot you want (e.g.: `line`,`scatter`, etc.), and declare what your x and y axes will be.\n",
    "6. Call `show(variable_name)` to display the graph\n",
    "\n",
    "So if we were going to plot the open prices from df2 as a line graph, we would write:"
   ]
  },
  {
   "cell_type": "code",
   "execution_count": null,
   "metadata": {
    "collapsed": true
   },
   "outputs": [],
   "source": [
    "TOOLS = \"pan,wheel_zoom,box_zoom,reset,save\"\n",
    "\n",
    "p1 = figure(title=\"Futures Prices\", tools=TOOLS,x_axis_type='datetime', plot_width=900, plot_height=700)\n",
    "p1.xaxis.axis_label = 'Date'\n",
    "p1.yaxis.axis_label = 'Price'\n",
    "p1.line(df2.index, df2['open'], legend=\"Open\")\n",
    "show(p1)"
   ]
  },
  {
   "cell_type": "markdown",
   "metadata": {},
   "source": [
    "Try moving the graph around, zooming with box-zoom or wheel zoom, and then using the reset button to return the graph to its original position.\n",
    "\n",
    "We can graph high and low again using:"
   ]
  },
  {
   "cell_type": "code",
   "execution_count": null,
   "metadata": {
    "collapsed": true
   },
   "outputs": [],
   "source": [
    "TOOLS = \"pan,wheel_zoom,box_zoom,reset,save\"\n",
    "\n",
    "p1 = figure(title=\"Futures Prices\", tools=TOOLS,x_axis_type='datetime', plot_width=900, plot_height=700)\n",
    "p1.xaxis.axis_label = 'Date'\n",
    "p1.yaxis.axis_label = 'Price'\n",
    "p1.line(df2.index, df2['high'], legend=\"High\",color='red')\n",
    "p1.line(df2.index, df2['low'], legend=\"Low\",color='blue')\n",
    "show(p1)"
   ]
  },
  {
   "cell_type": "markdown",
   "metadata": {},
   "source": [
    "We can also put plots side-by-side again, using the `gridplot` from `bokeh.layouts`.  We define all of our figures, and then when we call the `show()` function, we pass it a list of lists of our plots.  "
   ]
  },
  {
   "cell_type": "code",
   "execution_count": null,
   "metadata": {
    "collapsed": true
   },
   "outputs": [],
   "source": [
    "from bokeh.layouts import gridplot\n",
    "\n",
    "TOOLS = \"pan,wheel_zoom,box_zoom,reset,save\"\n",
    "\n",
    "p1 = figure(title=\"Futures Prices\", tools=TOOLS,x_axis_type='datetime')\n",
    "p1.xaxis.axis_label = 'Date'\n",
    "p1.yaxis.axis_label = 'Price'\n",
    "p1.line(df2.index, df2['high'], legend=\"High\")\n",
    "\n",
    "p2 = figure(title=\"Futures Prices\", tools=TOOLS,x_axis_type='datetime')\n",
    "p2.xaxis.axis_label = 'Date'\n",
    "p2.yaxis.axis_label = 'Price'\n",
    "p2.line(df2.index, df2['low'], legend=\"Low\")\n",
    "\n",
    "\n",
    "show(gridplot([[p1,p2]], plot_width=400, plot_height=300))"
   ]
  },
  {
   "cell_type": "code",
   "execution_count": null,
   "metadata": {
    "collapsed": true
   },
   "outputs": [],
   "source": [
    "show(gridplot([p1],[p2], plot_width=600, plot_height=300))"
   ]
  },
  {
   "cell_type": "markdown",
   "metadata": {},
   "source": [
    "Again, this sort of plotting barely scratches the surface of what Bokeh is capable of.  Here is one of the front-page examples from their gallery, creating a scatter plot of different sized discs with a range of colours:"
   ]
  },
  {
   "cell_type": "code",
   "execution_count": null,
   "metadata": {
    "collapsed": true
   },
   "outputs": [],
   "source": [
    "N = 4000\n",
    "x = np.random.random(size=N) * 100\n",
    "y = np.random.random(size=N) * 100\n",
    "radii = np.random.random(size=N) * 1.5\n",
    "colors = [\n",
    "    \"#%02x%02x%02x\" % (int(r), int(g), 150) for r, g in zip(50+2*x, 30+2*y)\n",
    "]\n",
    "\n",
    "TOOLS=\"hover,crosshair,pan,wheel_zoom,zoom_in,zoom_out,box_zoom,undo,redo,reset,tap,save,box_select,poly_select,lasso_select,\"\n",
    "\n",
    "p = figure(tools=TOOLS,plot_width=800, plot_height=800)\n",
    "\n",
    "p.scatter(x, y, radius=radii,\n",
    "          fill_color=colors, fill_alpha=0.6,\n",
    "          line_color=None)\n",
    "show(p)"
   ]
  },
  {
   "cell_type": "markdown",
   "metadata": {},
   "source": [
    "# Assignment 4\n",
    "\n",
    "1. 1. To see some of the issues with calling `.plot()` on an entire dataframe without considering carefully what the columns contain, try `df2.plot()` using the `df2` dataframe of prices from above.  Why does this occur?  \n",
    "  2. Create a vertically stacked set of two graphs using `df2`:  the top graph will contain all of the price data together, and the bottom graph will contain the volume data.  Choose different colours for each data set.  (Note: you can use hex colour codes when defining colours, e.g.: `color=#19F0B9`.  You can use the following RGB to Hex converter http://www.rgbtohex.net/)\n",
    "  \n",
    "2. Use the file customer_data.csv to perform the exercise.    \n",
    "  1. Create a new DataFrame called construction which contains all the customers in the \"Construction\" industry with over 0 spend on mobility products. Using this DataFrame, create a scatterplot with Mobility revenue on the vertical axis and number of employees on the horizontal axis. Does this tell you anything about the relationship between Mobility revenue and number of employees? What does it tell you?\n",
    "   2. Copy the code from part (1) and add in two lines underneath: plt.xscale('log') and plt.yscale('log'). These two lines rescale the axes so that instead of showing the raw figures, the logarithm of the figures is shown instead. This is often a useful transformation for data that is extremely skewed. How does the rescaled plot differ from the plot you created in part 1? Why? Can you discern anything about the relationship between Mobility revenue and number of employees that you couldn't before?\n",
    "   3. Repeat parts (1) and (2) for the Agriculture industry. How does the relationship between Mobility and number of employees differ in this industry from the Construction industry? Why do you think that might be?\n",
    "\n",
    "3. 1. Create a 3d scatter plot where the $x$-values range from $-2$ to $4$, the $y$-values are the cosine-squared of $x$, and the $z$ values are the sine of the difference of $x$ and $y$.  Set the step size for $x$ to be at most $0.01$.  \n",
    "   2. Using the `meshgrid` method, graph a wireframe *hyperbolic paraboloid* for $a=\\sqrt{3}$, $b=2$.  (Have the $xy$ values range from at least $-10$ to $10$ to see the structure properly.)"
   ]
  }
 ],
 "metadata": {
  "kernelspec": {
   "display_name": "Python 3",
   "language": "python",
   "name": "python3"
  },
  "language_info": {
   "codemirror_mode": {
    "name": "ipython",
    "version": 3
   },
   "file_extension": ".py",
   "mimetype": "text/x-python",
   "name": "python",
   "nbconvert_exporter": "python",
   "pygments_lexer": "ipython3",
   "version": "3.6.5"
  }
 },
 "nbformat": 4,
 "nbformat_minor": 2
}
